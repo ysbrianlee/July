{
  "cells": [
    {
      "cell_type": "markdown",
      "metadata": {
        "id": "Sc7ixKCVXexy"
      },
      "source": []
    },
    {
      "cell_type": "markdown",
      "metadata": {
        "id": "CXu4zTlPXex2"
      },
      "source": [
        "# 모델 평가와 하이퍼파라미터 튜닝의 모범 사례"
      ]
    },
    {
      "cell_type": "markdown",
      "metadata": {
        "id": "BNT2eIXlXex3"
      },
      "source": [
        "**아래 링크를 통해 이 노트북을 주피터 노트북 뷰어(nbviewer.jupyter.org)로 보거나 구글 코랩(colab.research.google.com)에서 실행할 수 있습니다.**\n",
        "\n",
        "<table class=\"tfo-notebook-buttons\" align=\"left\">\n",
        "  <td>\n",
        "    <a target=\"_blank\" href=\"https://nbviewer.org/github/rickiepark/python-machine-learning-book-3rd-edition/blob/master/ch06/ch06.ipynb\"><img src=\"https://jupyter.org/assets/share.png\" width=\"60\" />주피터 노트북 뷰어로 보기</a>\n",
        "  </td>\n",
        "  <td>\n",
        "    <a target=\"_blank\" href=\"https://colab.research.google.com/github/rickiepark/python-machine-learning-book-3rd-edition/blob/master/ch06/ch06.ipynb\"><img src=\"https://www.tensorflow.org/images/colab_logo_32px.png\" />구글 코랩(Colab)에서 실행하기</a>\n",
        "  </td>\n",
        "</table>"
      ]
    },
    {
      "cell_type": "markdown",
      "metadata": {
        "id": "qXHNJE0nXex3"
      },
      "source": [
        "### 목차"
      ]
    },
    {
      "cell_type": "markdown",
      "metadata": {
        "id": "7cecuaUCXex3"
      },
      "source": [
        "- 파이프라인을 사용한 효율적인 워크플로\n",
        "  - 위스콘신 유방암 데이터셋\n",
        "  - 파이프라인으로 변환기와 추정기 연결\n",
        "- k-겹 교차 검증을 사용한 모델 성능 평가\n",
        "  - 홀드아웃 방법\n",
        "  - k-겹 교차 검증\n",
        "- 학습 곡선과 검증 곡선을 사용한 알고리즘 디버깅\n",
        "  - 학습 곡선으로 편향과 분산 문제 분석\n",
        "  - 검증 곡선으로 과대적합과 과소적합 조사\n",
        "- 그리드 서치를 사용한 머신 러닝 모델 세부 튜닝\n",
        "  - 그리드 서치를 사용한 하이퍼파라미터 튜닝\n",
        "  - 중첩 교차 검증을 사용한 알고리즘 선택\n",
        "- 여러 가지 성능 평가 지표\n",
        "  - 오차 행렬\n",
        "  - 분류 모델의 정밀도와 재현율 최적화\n",
        "  - ROC 곡선 그리기\n",
        "  - 다중 분류의 성능 지표\n",
        "- 불균형한 클래스 다루기\n",
        "- 요약"
      ]
    },
    {
      "cell_type": "markdown",
      "metadata": {
        "id": "dXVZNdlrXex4"
      },
      "source": [
        "<br>"
      ]
    },
    {
      "cell_type": "code",
      "execution_count": 1,
      "metadata": {
        "execution": {
          "iopub.execute_input": "2021-10-23T05:55:55.235460Z",
          "iopub.status.busy": "2021-10-23T05:55:55.234695Z",
          "iopub.status.idle": "2021-10-23T05:55:55.238251Z",
          "shell.execute_reply": "2021-10-23T05:55:55.237501Z"
        },
        "id": "6GyXEH3GXex4"
      },
      "outputs": [],
      "source": [
        "from IPython.display import Image"
      ]
    },
    {
      "cell_type": "markdown",
      "metadata": {
        "id": "dTTyZ3SuXex4"
      },
      "source": [
        "# 파이프라인을 사용한 효율적인 워크플로"
      ]
    },
    {
      "cell_type": "markdown",
      "metadata": {
        "id": "Mq-PXFWeXex5"
      },
      "source": [
        "##  위스콘신 유방암 데이터셋"
      ]
    },
    {
      "cell_type": "code",
      "execution_count": 2,
      "metadata": {
        "colab": {
          "base_uri": "https://localhost:8080/",
          "height": 236
        },
        "execution": {
          "iopub.execute_input": "2021-10-23T05:55:55.244386Z",
          "iopub.status.busy": "2021-10-23T05:55:55.243442Z",
          "iopub.status.idle": "2021-10-23T05:55:56.679463Z",
          "shell.execute_reply": "2021-10-23T05:55:56.678790Z"
        },
        "id": "7Xi9I0nJXex5",
        "outputId": "d97cfc67-2351-42ff-d289-beeda2b719d1"
      },
      "outputs": [
        {
          "output_type": "execute_result",
          "data": {
            "text/plain": [
              "         0  1      2      3       4       5        6        7       8   \\\n",
              "0    842302  M  17.99  10.38  122.80  1001.0  0.11840  0.27760  0.3001   \n",
              "1    842517  M  20.57  17.77  132.90  1326.0  0.08474  0.07864  0.0869   \n",
              "2  84300903  M  19.69  21.25  130.00  1203.0  0.10960  0.15990  0.1974   \n",
              "3  84348301  M  11.42  20.38   77.58   386.1  0.14250  0.28390  0.2414   \n",
              "4  84358402  M  20.29  14.34  135.10  1297.0  0.10030  0.13280  0.1980   \n",
              "\n",
              "        9   ...     22     23      24      25      26      27      28      29  \\\n",
              "0  0.14710  ...  25.38  17.33  184.60  2019.0  0.1622  0.6656  0.7119  0.2654   \n",
              "1  0.07017  ...  24.99  23.41  158.80  1956.0  0.1238  0.1866  0.2416  0.1860   \n",
              "2  0.12790  ...  23.57  25.53  152.50  1709.0  0.1444  0.4245  0.4504  0.2430   \n",
              "3  0.10520  ...  14.91  26.50   98.87   567.7  0.2098  0.8663  0.6869  0.2575   \n",
              "4  0.10430  ...  22.54  16.67  152.20  1575.0  0.1374  0.2050  0.4000  0.1625   \n",
              "\n",
              "       30       31  \n",
              "0  0.4601  0.11890  \n",
              "1  0.2750  0.08902  \n",
              "2  0.3613  0.08758  \n",
              "3  0.6638  0.17300  \n",
              "4  0.2364  0.07678  \n",
              "\n",
              "[5 rows x 32 columns]"
            ],
            "text/html": [
              "\n",
              "  <div id=\"df-5158c7e9-885c-4258-8137-ca6db9dd1491\" class=\"colab-df-container\">\n",
              "    <div>\n",
              "<style scoped>\n",
              "    .dataframe tbody tr th:only-of-type {\n",
              "        vertical-align: middle;\n",
              "    }\n",
              "\n",
              "    .dataframe tbody tr th {\n",
              "        vertical-align: top;\n",
              "    }\n",
              "\n",
              "    .dataframe thead th {\n",
              "        text-align: right;\n",
              "    }\n",
              "</style>\n",
              "<table border=\"1\" class=\"dataframe\">\n",
              "  <thead>\n",
              "    <tr style=\"text-align: right;\">\n",
              "      <th></th>\n",
              "      <th>0</th>\n",
              "      <th>1</th>\n",
              "      <th>2</th>\n",
              "      <th>3</th>\n",
              "      <th>4</th>\n",
              "      <th>5</th>\n",
              "      <th>6</th>\n",
              "      <th>7</th>\n",
              "      <th>8</th>\n",
              "      <th>9</th>\n",
              "      <th>...</th>\n",
              "      <th>22</th>\n",
              "      <th>23</th>\n",
              "      <th>24</th>\n",
              "      <th>25</th>\n",
              "      <th>26</th>\n",
              "      <th>27</th>\n",
              "      <th>28</th>\n",
              "      <th>29</th>\n",
              "      <th>30</th>\n",
              "      <th>31</th>\n",
              "    </tr>\n",
              "  </thead>\n",
              "  <tbody>\n",
              "    <tr>\n",
              "      <th>0</th>\n",
              "      <td>842302</td>\n",
              "      <td>M</td>\n",
              "      <td>17.99</td>\n",
              "      <td>10.38</td>\n",
              "      <td>122.80</td>\n",
              "      <td>1001.0</td>\n",
              "      <td>0.11840</td>\n",
              "      <td>0.27760</td>\n",
              "      <td>0.3001</td>\n",
              "      <td>0.14710</td>\n",
              "      <td>...</td>\n",
              "      <td>25.38</td>\n",
              "      <td>17.33</td>\n",
              "      <td>184.60</td>\n",
              "      <td>2019.0</td>\n",
              "      <td>0.1622</td>\n",
              "      <td>0.6656</td>\n",
              "      <td>0.7119</td>\n",
              "      <td>0.2654</td>\n",
              "      <td>0.4601</td>\n",
              "      <td>0.11890</td>\n",
              "    </tr>\n",
              "    <tr>\n",
              "      <th>1</th>\n",
              "      <td>842517</td>\n",
              "      <td>M</td>\n",
              "      <td>20.57</td>\n",
              "      <td>17.77</td>\n",
              "      <td>132.90</td>\n",
              "      <td>1326.0</td>\n",
              "      <td>0.08474</td>\n",
              "      <td>0.07864</td>\n",
              "      <td>0.0869</td>\n",
              "      <td>0.07017</td>\n",
              "      <td>...</td>\n",
              "      <td>24.99</td>\n",
              "      <td>23.41</td>\n",
              "      <td>158.80</td>\n",
              "      <td>1956.0</td>\n",
              "      <td>0.1238</td>\n",
              "      <td>0.1866</td>\n",
              "      <td>0.2416</td>\n",
              "      <td>0.1860</td>\n",
              "      <td>0.2750</td>\n",
              "      <td>0.08902</td>\n",
              "    </tr>\n",
              "    <tr>\n",
              "      <th>2</th>\n",
              "      <td>84300903</td>\n",
              "      <td>M</td>\n",
              "      <td>19.69</td>\n",
              "      <td>21.25</td>\n",
              "      <td>130.00</td>\n",
              "      <td>1203.0</td>\n",
              "      <td>0.10960</td>\n",
              "      <td>0.15990</td>\n",
              "      <td>0.1974</td>\n",
              "      <td>0.12790</td>\n",
              "      <td>...</td>\n",
              "      <td>23.57</td>\n",
              "      <td>25.53</td>\n",
              "      <td>152.50</td>\n",
              "      <td>1709.0</td>\n",
              "      <td>0.1444</td>\n",
              "      <td>0.4245</td>\n",
              "      <td>0.4504</td>\n",
              "      <td>0.2430</td>\n",
              "      <td>0.3613</td>\n",
              "      <td>0.08758</td>\n",
              "    </tr>\n",
              "    <tr>\n",
              "      <th>3</th>\n",
              "      <td>84348301</td>\n",
              "      <td>M</td>\n",
              "      <td>11.42</td>\n",
              "      <td>20.38</td>\n",
              "      <td>77.58</td>\n",
              "      <td>386.1</td>\n",
              "      <td>0.14250</td>\n",
              "      <td>0.28390</td>\n",
              "      <td>0.2414</td>\n",
              "      <td>0.10520</td>\n",
              "      <td>...</td>\n",
              "      <td>14.91</td>\n",
              "      <td>26.50</td>\n",
              "      <td>98.87</td>\n",
              "      <td>567.7</td>\n",
              "      <td>0.2098</td>\n",
              "      <td>0.8663</td>\n",
              "      <td>0.6869</td>\n",
              "      <td>0.2575</td>\n",
              "      <td>0.6638</td>\n",
              "      <td>0.17300</td>\n",
              "    </tr>\n",
              "    <tr>\n",
              "      <th>4</th>\n",
              "      <td>84358402</td>\n",
              "      <td>M</td>\n",
              "      <td>20.29</td>\n",
              "      <td>14.34</td>\n",
              "      <td>135.10</td>\n",
              "      <td>1297.0</td>\n",
              "      <td>0.10030</td>\n",
              "      <td>0.13280</td>\n",
              "      <td>0.1980</td>\n",
              "      <td>0.10430</td>\n",
              "      <td>...</td>\n",
              "      <td>22.54</td>\n",
              "      <td>16.67</td>\n",
              "      <td>152.20</td>\n",
              "      <td>1575.0</td>\n",
              "      <td>0.1374</td>\n",
              "      <td>0.2050</td>\n",
              "      <td>0.4000</td>\n",
              "      <td>0.1625</td>\n",
              "      <td>0.2364</td>\n",
              "      <td>0.07678</td>\n",
              "    </tr>\n",
              "  </tbody>\n",
              "</table>\n",
              "<p>5 rows × 32 columns</p>\n",
              "</div>\n",
              "    <div class=\"colab-df-buttons\">\n",
              "\n",
              "  <div class=\"colab-df-container\">\n",
              "    <button class=\"colab-df-convert\" onclick=\"convertToInteractive('df-5158c7e9-885c-4258-8137-ca6db9dd1491')\"\n",
              "            title=\"Convert this dataframe to an interactive table.\"\n",
              "            style=\"display:none;\">\n",
              "\n",
              "  <svg xmlns=\"http://www.w3.org/2000/svg\" height=\"24px\" viewBox=\"0 -960 960 960\">\n",
              "    <path d=\"M120-120v-720h720v720H120Zm60-500h600v-160H180v160Zm220 220h160v-160H400v160Zm0 220h160v-160H400v160ZM180-400h160v-160H180v160Zm440 0h160v-160H620v160ZM180-180h160v-160H180v160Zm440 0h160v-160H620v160Z\"/>\n",
              "  </svg>\n",
              "    </button>\n",
              "\n",
              "  <style>\n",
              "    .colab-df-container {\n",
              "      display:flex;\n",
              "      gap: 12px;\n",
              "    }\n",
              "\n",
              "    .colab-df-convert {\n",
              "      background-color: #E8F0FE;\n",
              "      border: none;\n",
              "      border-radius: 50%;\n",
              "      cursor: pointer;\n",
              "      display: none;\n",
              "      fill: #1967D2;\n",
              "      height: 32px;\n",
              "      padding: 0 0 0 0;\n",
              "      width: 32px;\n",
              "    }\n",
              "\n",
              "    .colab-df-convert:hover {\n",
              "      background-color: #E2EBFA;\n",
              "      box-shadow: 0px 1px 2px rgba(60, 64, 67, 0.3), 0px 1px 3px 1px rgba(60, 64, 67, 0.15);\n",
              "      fill: #174EA6;\n",
              "    }\n",
              "\n",
              "    .colab-df-buttons div {\n",
              "      margin-bottom: 4px;\n",
              "    }\n",
              "\n",
              "    [theme=dark] .colab-df-convert {\n",
              "      background-color: #3B4455;\n",
              "      fill: #D2E3FC;\n",
              "    }\n",
              "\n",
              "    [theme=dark] .colab-df-convert:hover {\n",
              "      background-color: #434B5C;\n",
              "      box-shadow: 0px 1px 3px 1px rgba(0, 0, 0, 0.15);\n",
              "      filter: drop-shadow(0px 1px 2px rgba(0, 0, 0, 0.3));\n",
              "      fill: #FFFFFF;\n",
              "    }\n",
              "  </style>\n",
              "\n",
              "    <script>\n",
              "      const buttonEl =\n",
              "        document.querySelector('#df-5158c7e9-885c-4258-8137-ca6db9dd1491 button.colab-df-convert');\n",
              "      buttonEl.style.display =\n",
              "        google.colab.kernel.accessAllowed ? 'block' : 'none';\n",
              "\n",
              "      async function convertToInteractive(key) {\n",
              "        const element = document.querySelector('#df-5158c7e9-885c-4258-8137-ca6db9dd1491');\n",
              "        const dataTable =\n",
              "          await google.colab.kernel.invokeFunction('convertToInteractive',\n",
              "                                                    [key], {});\n",
              "        if (!dataTable) return;\n",
              "\n",
              "        const docLinkHtml = 'Like what you see? Visit the ' +\n",
              "          '<a target=\"_blank\" href=https://colab.research.google.com/notebooks/data_table.ipynb>data table notebook</a>'\n",
              "          + ' to learn more about interactive tables.';\n",
              "        element.innerHTML = '';\n",
              "        dataTable['output_type'] = 'display_data';\n",
              "        await google.colab.output.renderOutput(dataTable, element);\n",
              "        const docLink = document.createElement('div');\n",
              "        docLink.innerHTML = docLinkHtml;\n",
              "        element.appendChild(docLink);\n",
              "      }\n",
              "    </script>\n",
              "  </div>\n",
              "\n",
              "\n",
              "<div id=\"df-4b75ae27-4bde-44cf-a1cc-fb8a805aa158\">\n",
              "  <button class=\"colab-df-quickchart\" onclick=\"quickchart('df-4b75ae27-4bde-44cf-a1cc-fb8a805aa158')\"\n",
              "            title=\"Suggest charts\"\n",
              "            style=\"display:none;\">\n",
              "\n",
              "<svg xmlns=\"http://www.w3.org/2000/svg\" height=\"24px\"viewBox=\"0 0 24 24\"\n",
              "     width=\"24px\">\n",
              "    <g>\n",
              "        <path d=\"M19 3H5c-1.1 0-2 .9-2 2v14c0 1.1.9 2 2 2h14c1.1 0 2-.9 2-2V5c0-1.1-.9-2-2-2zM9 17H7v-7h2v7zm4 0h-2V7h2v10zm4 0h-2v-4h2v4z\"/>\n",
              "    </g>\n",
              "</svg>\n",
              "  </button>\n",
              "\n",
              "<style>\n",
              "  .colab-df-quickchart {\n",
              "      --bg-color: #E8F0FE;\n",
              "      --fill-color: #1967D2;\n",
              "      --hover-bg-color: #E2EBFA;\n",
              "      --hover-fill-color: #174EA6;\n",
              "      --disabled-fill-color: #AAA;\n",
              "      --disabled-bg-color: #DDD;\n",
              "  }\n",
              "\n",
              "  [theme=dark] .colab-df-quickchart {\n",
              "      --bg-color: #3B4455;\n",
              "      --fill-color: #D2E3FC;\n",
              "      --hover-bg-color: #434B5C;\n",
              "      --hover-fill-color: #FFFFFF;\n",
              "      --disabled-bg-color: #3B4455;\n",
              "      --disabled-fill-color: #666;\n",
              "  }\n",
              "\n",
              "  .colab-df-quickchart {\n",
              "    background-color: var(--bg-color);\n",
              "    border: none;\n",
              "    border-radius: 50%;\n",
              "    cursor: pointer;\n",
              "    display: none;\n",
              "    fill: var(--fill-color);\n",
              "    height: 32px;\n",
              "    padding: 0;\n",
              "    width: 32px;\n",
              "  }\n",
              "\n",
              "  .colab-df-quickchart:hover {\n",
              "    background-color: var(--hover-bg-color);\n",
              "    box-shadow: 0 1px 2px rgba(60, 64, 67, 0.3), 0 1px 3px 1px rgba(60, 64, 67, 0.15);\n",
              "    fill: var(--button-hover-fill-color);\n",
              "  }\n",
              "\n",
              "  .colab-df-quickchart-complete:disabled,\n",
              "  .colab-df-quickchart-complete:disabled:hover {\n",
              "    background-color: var(--disabled-bg-color);\n",
              "    fill: var(--disabled-fill-color);\n",
              "    box-shadow: none;\n",
              "  }\n",
              "\n",
              "  .colab-df-spinner {\n",
              "    border: 2px solid var(--fill-color);\n",
              "    border-color: transparent;\n",
              "    border-bottom-color: var(--fill-color);\n",
              "    animation:\n",
              "      spin 1s steps(1) infinite;\n",
              "  }\n",
              "\n",
              "  @keyframes spin {\n",
              "    0% {\n",
              "      border-color: transparent;\n",
              "      border-bottom-color: var(--fill-color);\n",
              "      border-left-color: var(--fill-color);\n",
              "    }\n",
              "    20% {\n",
              "      border-color: transparent;\n",
              "      border-left-color: var(--fill-color);\n",
              "      border-top-color: var(--fill-color);\n",
              "    }\n",
              "    30% {\n",
              "      border-color: transparent;\n",
              "      border-left-color: var(--fill-color);\n",
              "      border-top-color: var(--fill-color);\n",
              "      border-right-color: var(--fill-color);\n",
              "    }\n",
              "    40% {\n",
              "      border-color: transparent;\n",
              "      border-right-color: var(--fill-color);\n",
              "      border-top-color: var(--fill-color);\n",
              "    }\n",
              "    60% {\n",
              "      border-color: transparent;\n",
              "      border-right-color: var(--fill-color);\n",
              "    }\n",
              "    80% {\n",
              "      border-color: transparent;\n",
              "      border-right-color: var(--fill-color);\n",
              "      border-bottom-color: var(--fill-color);\n",
              "    }\n",
              "    90% {\n",
              "      border-color: transparent;\n",
              "      border-bottom-color: var(--fill-color);\n",
              "    }\n",
              "  }\n",
              "</style>\n",
              "\n",
              "  <script>\n",
              "    async function quickchart(key) {\n",
              "      const quickchartButtonEl =\n",
              "        document.querySelector('#' + key + ' button');\n",
              "      quickchartButtonEl.disabled = true;  // To prevent multiple clicks.\n",
              "      quickchartButtonEl.classList.add('colab-df-spinner');\n",
              "      try {\n",
              "        const charts = await google.colab.kernel.invokeFunction(\n",
              "            'suggestCharts', [key], {});\n",
              "      } catch (error) {\n",
              "        console.error('Error during call to suggestCharts:', error);\n",
              "      }\n",
              "      quickchartButtonEl.classList.remove('colab-df-spinner');\n",
              "      quickchartButtonEl.classList.add('colab-df-quickchart-complete');\n",
              "    }\n",
              "    (() => {\n",
              "      let quickchartButtonEl =\n",
              "        document.querySelector('#df-4b75ae27-4bde-44cf-a1cc-fb8a805aa158 button');\n",
              "      quickchartButtonEl.style.display =\n",
              "        google.colab.kernel.accessAllowed ? 'block' : 'none';\n",
              "    })();\n",
              "  </script>\n",
              "</div>\n",
              "\n",
              "    </div>\n",
              "  </div>\n"
            ],
            "application/vnd.google.colaboratory.intrinsic+json": {
              "type": "dataframe",
              "variable_name": "df"
            }
          },
          "metadata": {},
          "execution_count": 2
        }
      ],
      "source": [
        "import pandas as pd\n",
        "\n",
        "df = pd.read_csv('https://archive.ics.uci.edu/ml/'\n",
        "                 'machine-learning-databases'\n",
        "                 '/breast-cancer-wisconsin/wdbc.data', header=None)\n",
        "\n",
        "# UCI 머신 러닝 저장소에서 유방암 데이터셋을 다운로드할 수 없을 때\n",
        "# 다음 주석을 해제하고 로컬 경로에서 데이터셋을 적재하세요:\n",
        "\n",
        "# df = pd.read_csv('wdbc.data', header=None)\n",
        "\n",
        "df.head()"
      ]
    },
    {
      "cell_type": "code",
      "execution_count": 3,
      "metadata": {
        "colab": {
          "base_uri": "https://localhost:8080/"
        },
        "execution": {
          "iopub.execute_input": "2021-10-23T05:55:56.684957Z",
          "iopub.status.busy": "2021-10-23T05:55:56.684168Z",
          "iopub.status.idle": "2021-10-23T05:55:56.689546Z",
          "shell.execute_reply": "2021-10-23T05:55:56.688448Z"
        },
        "id": "3_0ehQ7FXex6",
        "outputId": "eac749fe-201e-438c-bea6-f57c12abf460"
      },
      "outputs": [
        {
          "output_type": "execute_result",
          "data": {
            "text/plain": [
              "(569, 32)"
            ]
          },
          "metadata": {},
          "execution_count": 3
        }
      ],
      "source": [
        "df.shape"
      ]
    },
    {
      "cell_type": "markdown",
      "metadata": {
        "id": "SLpsQoCvXex6"
      },
      "source": [
        "<hr>"
      ]
    },
    {
      "cell_type": "code",
      "execution_count": 4,
      "metadata": {
        "colab": {
          "base_uri": "https://localhost:8080/"
        },
        "execution": {
          "iopub.execute_input": "2021-10-23T05:55:56.695906Z",
          "iopub.status.busy": "2021-10-23T05:55:56.695040Z",
          "iopub.status.idle": "2021-10-23T05:55:57.083252Z",
          "shell.execute_reply": "2021-10-23T05:55:57.082467Z"
        },
        "id": "ynS23_cCXex6",
        "outputId": "d048b07f-650e-4c4c-eb65-999c6545b4f8"
      },
      "outputs": [
        {
          "output_type": "execute_result",
          "data": {
            "text/plain": [
              "array(['B', 'M'], dtype=object)"
            ]
          },
          "metadata": {},
          "execution_count": 4
        }
      ],
      "source": [
        "from sklearn.preprocessing import LabelEncoder\n",
        "\n",
        "X = df.loc[:, 2:].values\n",
        "y = df.loc[:, 1].values\n",
        "le = LabelEncoder()\n",
        "y = le.fit_transform(y)\n",
        "le.classes_"
      ]
    },
    {
      "cell_type": "code",
      "execution_count": 5,
      "metadata": {
        "colab": {
          "base_uri": "https://localhost:8080/"
        },
        "execution": {
          "iopub.execute_input": "2021-10-23T05:55:57.090480Z",
          "iopub.status.busy": "2021-10-23T05:55:57.089030Z",
          "iopub.status.idle": "2021-10-23T05:55:57.093119Z",
          "shell.execute_reply": "2021-10-23T05:55:57.093634Z"
        },
        "id": "2-aH5O6AXex7",
        "outputId": "24f5e6de-5523-49ae-8666-b1c61d174b00"
      },
      "outputs": [
        {
          "output_type": "execute_result",
          "data": {
            "text/plain": [
              "array([1, 0])"
            ]
          },
          "metadata": {},
          "execution_count": 5
        }
      ],
      "source": [
        "le.transform(['M', 'B'])"
      ]
    },
    {
      "cell_type": "code",
      "execution_count": 6,
      "metadata": {
        "execution": {
          "iopub.execute_input": "2021-10-23T05:55:57.100362Z",
          "iopub.status.busy": "2021-10-23T05:55:57.098882Z",
          "iopub.status.idle": "2021-10-23T05:55:57.114266Z",
          "shell.execute_reply": "2021-10-23T05:55:57.113406Z"
        },
        "id": "FriWTHB2Xex7"
      },
      "outputs": [],
      "source": [
        "from sklearn.model_selection import train_test_split\n",
        "\n",
        "X_train, X_test, y_train, y_test = \\\n",
        "    train_test_split(X, y,\n",
        "                     test_size=0.20,\n",
        "                     stratify=y,\n",
        "                     random_state=1)"
      ]
    },
    {
      "cell_type": "markdown",
      "metadata": {
        "id": "1PjFC59vXex7"
      },
      "source": [
        "<br>"
      ]
    },
    {
      "cell_type": "markdown",
      "metadata": {
        "id": "CEPNZtaKXex7"
      },
      "source": [
        "## 6.1.2 파이프라인으로 변환기와 추정기 연결"
      ]
    },
    {
      "cell_type": "code",
      "execution_count": 7,
      "metadata": {
        "colab": {
          "base_uri": "https://localhost:8080/"
        },
        "execution": {
          "iopub.execute_input": "2021-10-23T05:55:57.120884Z",
          "iopub.status.busy": "2021-10-23T05:55:57.120140Z",
          "iopub.status.idle": "2021-10-23T05:55:57.175529Z",
          "shell.execute_reply": "2021-10-23T05:55:57.176524Z"
        },
        "id": "rQ2QJb4HXex7",
        "outputId": "60005eac-4730-4b39-cc04-dc0b66d99a61"
      },
      "outputs": [
        {
          "output_type": "stream",
          "name": "stdout",
          "text": [
            "테스트 정확도: 0.956\n"
          ]
        }
      ],
      "source": [
        "from sklearn.preprocessing import StandardScaler\n",
        "from sklearn.decomposition import PCA\n",
        "from sklearn.linear_model import LogisticRegression\n",
        "from sklearn.pipeline import make_pipeline\n",
        "\n",
        "pipe_lr = make_pipeline(StandardScaler(),\n",
        "                        PCA(n_components=2),\n",
        "                        LogisticRegression(random_state=1))\n",
        "\n",
        "pipe_lr.fit(X_train, y_train)\n",
        "y_pred = pipe_lr.predict(X_test)\n",
        "print('테스트 정확도: %.3f' % pipe_lr.score(X_test, y_test))"
      ]
    },
    {
      "cell_type": "code",
      "execution_count": 8,
      "metadata": {
        "colab": {
          "base_uri": "https://localhost:8080/",
          "height": 161
        },
        "execution": {
          "iopub.execute_input": "2021-10-23T05:55:57.188618Z",
          "iopub.status.busy": "2021-10-23T05:55:57.187037Z",
          "iopub.status.idle": "2021-10-23T05:55:57.431472Z",
          "shell.execute_reply": "2021-10-23T05:55:57.432061Z"
        },
        "id": "CoeVaXRdXex8",
        "outputId": "2336c897-e909-4374-e9f5-a48796d64559"
      },
      "outputs": [
        {
          "output_type": "execute_result",
          "data": {
            "text/plain": [
              "Pipeline(steps=[('standardscaler', StandardScaler()),\n",
              "                ('pca', PCA(n_components=2)),\n",
              "                ('logisticregression', LogisticRegression(random_state=1))])"
            ],
            "text/html": [
              "<style>#sk-container-id-1 {color: black;background-color: white;}#sk-container-id-1 pre{padding: 0;}#sk-container-id-1 div.sk-toggleable {background-color: white;}#sk-container-id-1 label.sk-toggleable__label {cursor: pointer;display: block;width: 100%;margin-bottom: 0;padding: 0.3em;box-sizing: border-box;text-align: center;}#sk-container-id-1 label.sk-toggleable__label-arrow:before {content: \"▸\";float: left;margin-right: 0.25em;color: #696969;}#sk-container-id-1 label.sk-toggleable__label-arrow:hover:before {color: black;}#sk-container-id-1 div.sk-estimator:hover label.sk-toggleable__label-arrow:before {color: black;}#sk-container-id-1 div.sk-toggleable__content {max-height: 0;max-width: 0;overflow: hidden;text-align: left;background-color: #f0f8ff;}#sk-container-id-1 div.sk-toggleable__content pre {margin: 0.2em;color: black;border-radius: 0.25em;background-color: #f0f8ff;}#sk-container-id-1 input.sk-toggleable__control:checked~div.sk-toggleable__content {max-height: 200px;max-width: 100%;overflow: auto;}#sk-container-id-1 input.sk-toggleable__control:checked~label.sk-toggleable__label-arrow:before {content: \"▾\";}#sk-container-id-1 div.sk-estimator input.sk-toggleable__control:checked~label.sk-toggleable__label {background-color: #d4ebff;}#sk-container-id-1 div.sk-label input.sk-toggleable__control:checked~label.sk-toggleable__label {background-color: #d4ebff;}#sk-container-id-1 input.sk-hidden--visually {border: 0;clip: rect(1px 1px 1px 1px);clip: rect(1px, 1px, 1px, 1px);height: 1px;margin: -1px;overflow: hidden;padding: 0;position: absolute;width: 1px;}#sk-container-id-1 div.sk-estimator {font-family: monospace;background-color: #f0f8ff;border: 1px dotted black;border-radius: 0.25em;box-sizing: border-box;margin-bottom: 0.5em;}#sk-container-id-1 div.sk-estimator:hover {background-color: #d4ebff;}#sk-container-id-1 div.sk-parallel-item::after {content: \"\";width: 100%;border-bottom: 1px solid gray;flex-grow: 1;}#sk-container-id-1 div.sk-label:hover label.sk-toggleable__label {background-color: #d4ebff;}#sk-container-id-1 div.sk-serial::before {content: \"\";position: absolute;border-left: 1px solid gray;box-sizing: border-box;top: 0;bottom: 0;left: 50%;z-index: 0;}#sk-container-id-1 div.sk-serial {display: flex;flex-direction: column;align-items: center;background-color: white;padding-right: 0.2em;padding-left: 0.2em;position: relative;}#sk-container-id-1 div.sk-item {position: relative;z-index: 1;}#sk-container-id-1 div.sk-parallel {display: flex;align-items: stretch;justify-content: center;background-color: white;position: relative;}#sk-container-id-1 div.sk-item::before, #sk-container-id-1 div.sk-parallel-item::before {content: \"\";position: absolute;border-left: 1px solid gray;box-sizing: border-box;top: 0;bottom: 0;left: 50%;z-index: -1;}#sk-container-id-1 div.sk-parallel-item {display: flex;flex-direction: column;z-index: 1;position: relative;background-color: white;}#sk-container-id-1 div.sk-parallel-item:first-child::after {align-self: flex-end;width: 50%;}#sk-container-id-1 div.sk-parallel-item:last-child::after {align-self: flex-start;width: 50%;}#sk-container-id-1 div.sk-parallel-item:only-child::after {width: 0;}#sk-container-id-1 div.sk-dashed-wrapped {border: 1px dashed gray;margin: 0 0.4em 0.5em 0.4em;box-sizing: border-box;padding-bottom: 0.4em;background-color: white;}#sk-container-id-1 div.sk-label label {font-family: monospace;font-weight: bold;display: inline-block;line-height: 1.2em;}#sk-container-id-1 div.sk-label-container {text-align: center;}#sk-container-id-1 div.sk-container {/* jupyter's `normalize.less` sets `[hidden] { display: none; }` but bootstrap.min.css set `[hidden] { display: none !important; }` so we also need the `!important` here to be able to override the default hidden behavior on the sphinx rendered scikit-learn.org. See: https://github.com/scikit-learn/scikit-learn/issues/21755 */display: inline-block !important;position: relative;}#sk-container-id-1 div.sk-text-repr-fallback {display: none;}</style><div id=\"sk-container-id-1\" class=\"sk-top-container\"><div class=\"sk-text-repr-fallback\"><pre>Pipeline(steps=[(&#x27;standardscaler&#x27;, StandardScaler()),\n",
              "                (&#x27;pca&#x27;, PCA(n_components=2)),\n",
              "                (&#x27;logisticregression&#x27;, LogisticRegression(random_state=1))])</pre><b>In a Jupyter environment, please rerun this cell to show the HTML representation or trust the notebook. <br />On GitHub, the HTML representation is unable to render, please try loading this page with nbviewer.org.</b></div><div class=\"sk-container\" hidden><div class=\"sk-item sk-dashed-wrapped\"><div class=\"sk-label-container\"><div class=\"sk-label sk-toggleable\"><input class=\"sk-toggleable__control sk-hidden--visually\" id=\"sk-estimator-id-1\" type=\"checkbox\" ><label for=\"sk-estimator-id-1\" class=\"sk-toggleable__label sk-toggleable__label-arrow\">Pipeline</label><div class=\"sk-toggleable__content\"><pre>Pipeline(steps=[(&#x27;standardscaler&#x27;, StandardScaler()),\n",
              "                (&#x27;pca&#x27;, PCA(n_components=2)),\n",
              "                (&#x27;logisticregression&#x27;, LogisticRegression(random_state=1))])</pre></div></div></div><div class=\"sk-serial\"><div class=\"sk-item\"><div class=\"sk-estimator sk-toggleable\"><input class=\"sk-toggleable__control sk-hidden--visually\" id=\"sk-estimator-id-2\" type=\"checkbox\" ><label for=\"sk-estimator-id-2\" class=\"sk-toggleable__label sk-toggleable__label-arrow\">StandardScaler</label><div class=\"sk-toggleable__content\"><pre>StandardScaler()</pre></div></div></div><div class=\"sk-item\"><div class=\"sk-estimator sk-toggleable\"><input class=\"sk-toggleable__control sk-hidden--visually\" id=\"sk-estimator-id-3\" type=\"checkbox\" ><label for=\"sk-estimator-id-3\" class=\"sk-toggleable__label sk-toggleable__label-arrow\">PCA</label><div class=\"sk-toggleable__content\"><pre>PCA(n_components=2)</pre></div></div></div><div class=\"sk-item\"><div class=\"sk-estimator sk-toggleable\"><input class=\"sk-toggleable__control sk-hidden--visually\" id=\"sk-estimator-id-4\" type=\"checkbox\" ><label for=\"sk-estimator-id-4\" class=\"sk-toggleable__label sk-toggleable__label-arrow\">LogisticRegression</label><div class=\"sk-toggleable__content\"><pre>LogisticRegression(random_state=1)</pre></div></div></div></div></div></div></div>"
            ]
          },
          "metadata": {},
          "execution_count": 8
        }
      ],
      "source": [
        "import matplotlib.pyplot as plt\n",
        "from sklearn import set_config\n",
        "set_config(display='diagram')\n",
        "pipe_lr"
      ]
    },
    {
      "cell_type": "code",
      "execution_count": 9,
      "metadata": {
        "colab": {
          "base_uri": "https://localhost:8080/",
          "height": 398
        },
        "execution": {
          "iopub.execute_input": "2021-10-23T05:55:57.435964Z",
          "iopub.status.busy": "2021-10-23T05:55:57.434973Z",
          "iopub.status.idle": "2021-10-23T05:55:57.440509Z",
          "shell.execute_reply": "2021-10-23T05:55:57.441025Z"
        },
        "id": "HlvW4t-nXex8",
        "outputId": "058acc1d-dbc0-49a0-a31b-8b3dbe3cc6ae"
      },
      "outputs": [
        {
          "output_type": "execute_result",
          "data": {
            "text/html": [
              "<img src=\"https://git.io/JtsTr\" width=\"500\"/>"
            ],
            "text/plain": [
              "<IPython.core.display.Image object>"
            ]
          },
          "metadata": {},
          "execution_count": 9
        }
      ],
      "source": [
        "Image(url='https://git.io/JtsTr', width=500)"
      ]
    },
    {
      "cell_type": "code",
      "source": [],
      "metadata": {
        "id": "65EQT2VsjKmh"
      },
      "execution_count": null,
      "outputs": []
    },
    {
      "cell_type": "markdown",
      "metadata": {
        "id": "MQsfoWA4Xex8"
      },
      "source": [
        "<br>"
      ]
    },
    {
      "cell_type": "markdown",
      "metadata": {
        "id": "JAF93G-MXex8"
      },
      "source": [
        "# k-겹 교차 검증을 사용한 모델 성능 평가"
      ]
    },
    {
      "cell_type": "markdown",
      "metadata": {
        "id": "nlkqYxr_Xex9"
      },
      "source": [
        "##  홀드아웃 방법"
      ]
    },
    {
      "cell_type": "code",
      "execution_count": 10,
      "metadata": {
        "colab": {
          "base_uri": "https://localhost:8080/",
          "height": 390
        },
        "execution": {
          "iopub.execute_input": "2021-10-23T05:55:57.448637Z",
          "iopub.status.busy": "2021-10-23T05:55:57.446992Z",
          "iopub.status.idle": "2021-10-23T05:55:57.451695Z",
          "shell.execute_reply": "2021-10-23T05:55:57.450956Z"
        },
        "id": "WiEErC_RXex9",
        "outputId": "b715608e-1863-4236-8f40-f87fa7a68ad6"
      },
      "outputs": [
        {
          "output_type": "execute_result",
          "data": {
            "text/html": [
              "<img src=\"https://git.io/JtsTo\" width=\"500\"/>"
            ],
            "text/plain": [
              "<IPython.core.display.Image object>"
            ]
          },
          "metadata": {},
          "execution_count": 10
        }
      ],
      "source": [
        "Image(url='https://git.io/JtsTo', width=500)"
      ]
    },
    {
      "cell_type": "markdown",
      "metadata": {
        "id": "NNRz86PZXex9"
      },
      "source": [
        "<br>"
      ]
    },
    {
      "cell_type": "markdown",
      "metadata": {
        "id": "KP4qCAdmXex9"
      },
      "source": [
        "##  K-겹 교차 검증"
      ]
    },
    {
      "cell_type": "code",
      "execution_count": 11,
      "metadata": {
        "colab": {
          "base_uri": "https://localhost:8080/",
          "height": 299
        },
        "execution": {
          "iopub.execute_input": "2021-10-23T05:55:57.458739Z",
          "iopub.status.busy": "2021-10-23T05:55:57.457356Z",
          "iopub.status.idle": "2021-10-23T05:55:57.462035Z",
          "shell.execute_reply": "2021-10-23T05:55:57.461238Z"
        },
        "id": "X2nepTeiXex9",
        "outputId": "c207cf78-65b2-4469-9efd-536fb28e9948"
      },
      "outputs": [
        {
          "output_type": "execute_result",
          "data": {
            "text/html": [
              "<img src=\"https://git.io/JtsT6\" width=\"500\"/>"
            ],
            "text/plain": [
              "<IPython.core.display.Image object>"
            ]
          },
          "metadata": {},
          "execution_count": 11
        }
      ],
      "source": [
        "Image(url='https://git.io/JtsT6', width=500)"
      ]
    },
    {
      "cell_type": "code",
      "execution_count": 12,
      "metadata": {
        "colab": {
          "base_uri": "https://localhost:8080/"
        },
        "execution": {
          "iopub.execute_input": "2021-10-23T05:55:57.526824Z",
          "iopub.status.busy": "2021-10-23T05:55:57.525866Z",
          "iopub.status.idle": "2021-10-23T05:55:57.670354Z",
          "shell.execute_reply": "2021-10-23T05:55:57.671239Z"
        },
        "id": "N-pc5EjLXex9",
        "outputId": "a1bb5a62-b050-4578-f1f9-6af7e86dafc9"
      },
      "outputs": [
        {
          "output_type": "stream",
          "name": "stdout",
          "text": [
            "폴드:  1, 클래스 분포: [256 153], 정확도: 0.935\n",
            "폴드:  2, 클래스 분포: [256 153], 정확도: 0.935\n",
            "폴드:  3, 클래스 분포: [256 153], 정확도: 0.957\n",
            "폴드:  4, 클래스 분포: [256 153], 정확도: 0.957\n",
            "폴드:  5, 클래스 분포: [256 153], 정확도: 0.935\n",
            "폴드:  6, 클래스 분포: [257 153], 정확도: 0.956\n",
            "폴드:  7, 클래스 분포: [257 153], 정확도: 0.978\n",
            "폴드:  8, 클래스 분포: [257 153], 정확도: 0.933\n",
            "폴드:  9, 클래스 분포: [257 153], 정확도: 0.956\n",
            "폴드: 10, 클래스 분포: [257 153], 정확도: 0.956\n",
            "\n",
            "CV 정확도: 0.950 +/- 0.014\n"
          ]
        }
      ],
      "source": [
        "import numpy as np\n",
        "from sklearn.model_selection import StratifiedKFold\n",
        "\n",
        "kfold = StratifiedKFold(n_splits=10).split(X_train, y_train)\n",
        "\n",
        "scores = []\n",
        "for k, (train, test) in enumerate(kfold):\n",
        "    pipe_lr.fit(X_train[train], y_train[train])\n",
        "    score = pipe_lr.score(X_train[test], y_train[test])\n",
        "    scores.append(score)\n",
        "    print('폴드: %2d, 클래스 분포: %s, 정확도: %.3f' % (k+1,\n",
        "          np.bincount(y_train[train]), score))\n",
        "\n",
        "print('\\nCV 정확도: %.3f +/- %.3f' % (np.mean(scores), np.std(scores)))"
      ]
    },
    {
      "cell_type": "code",
      "execution_count": 13,
      "metadata": {
        "colab": {
          "base_uri": "https://localhost:8080/"
        },
        "execution": {
          "iopub.execute_input": "2021-10-23T05:55:57.684759Z",
          "iopub.status.busy": "2021-10-23T05:55:57.682201Z",
          "iopub.status.idle": "2021-10-23T05:55:57.840979Z",
          "shell.execute_reply": "2021-10-23T05:55:57.842522Z"
        },
        "id": "oJ98nuHyXex-",
        "outputId": "951781df-20f7-4ea4-9fb1-aaa381abce14"
      },
      "outputs": [
        {
          "output_type": "stream",
          "name": "stdout",
          "text": [
            "CV 정확도 점수: [0.93478261 0.93478261 0.95652174 0.95652174 0.93478261 0.95555556\n",
            " 0.97777778 0.93333333 0.95555556 0.95555556]\n",
            "CV 정확도: 0.950 +/- 0.014\n"
          ]
        }
      ],
      "source": [
        "from sklearn.model_selection import cross_val_score\n",
        "\n",
        "scores = cross_val_score(estimator=pipe_lr,\n",
        "                         X=X_train,\n",
        "                         y=y_train,\n",
        "                         cv=10,\n",
        "                         n_jobs=1)\n",
        "print('CV 정확도 점수: %s' % scores)\n",
        "print('CV 정확도: %.3f +/- %.3f' % (np.mean(scores), np.std(scores)))"
      ]
    },
    {
      "cell_type": "code",
      "execution_count": 14,
      "metadata": {
        "colab": {
          "base_uri": "https://localhost:8080/"
        },
        "execution": {
          "iopub.execute_input": "2021-10-23T05:55:57.850167Z",
          "iopub.status.busy": "2021-10-23T05:55:57.847635Z",
          "iopub.status.idle": "2021-10-23T05:55:58.739775Z",
          "shell.execute_reply": "2021-10-23T05:55:58.739149Z"
        },
        "id": "b3xbOJPkXex-",
        "outputId": "0590be79-3b9c-4ab4-e2e3-2fa8b074915b"
      },
      "outputs": [
        {
          "output_type": "stream",
          "name": "stdout",
          "text": [
            "CV 정확도 점수: [0.93478261 0.93478261 0.95652174 0.95652174 0.93478261 0.95555556\n",
            " 0.97777778 0.93333333 0.95555556 0.95555556]\n",
            "CV 정확도: 0.950 +/- 0.014\n"
          ]
        }
      ],
      "source": [
        "from sklearn.model_selection import cross_validate\n",
        "\n",
        "scores = cross_validate(estimator=pipe_lr,\n",
        "                        X=X_train,\n",
        "                        y=y_train,\n",
        "                        scoring=['accuracy'],\n",
        "                        cv=10,\n",
        "                        n_jobs=-1)\n",
        "print('CV 정확도 점수: %s' % scores['test_accuracy'])\n",
        "print('CV 정확도: %.3f +/- %.3f' % (np.mean(scores['test_accuracy']),\n",
        "                                 np.std(scores['test_accuracy'])))"
      ]
    },
    {
      "cell_type": "markdown",
      "metadata": {
        "id": "GHTLzmDRXex-"
      },
      "source": [
        "`cross_val_predict` 함수는 `cross_val_score`와 비슷한 인터페이스를 제공하지만 훈련 데이터셋의 각 샘플이 테스트 폴드가 되었을 때 만들어진 예측을 반환합니다. 따라서 `cross_val_predict` 함수의 결과를 사용해 모델의 성능(예를 들어, 정확도)을 계산하면 `cross_val_score` 함수의 결과와 다르며 바람직한 일반화 성능 추정이 아닙니다. `cross_val_predict` 함수의 사용 용도는 훈련 세트에 대한 예측 결과를 시각화하거나 7장에서 소개하는 스태킹(Stacking) 앙상블(Ensemble) 방법처럼 다른 모델에 주입할 훈련 데이터를 만들기 위해 사용합니다."
      ]
    },
    {
      "cell_type": "code",
      "execution_count": 15,
      "metadata": {
        "colab": {
          "base_uri": "https://localhost:8080/"
        },
        "execution": {
          "iopub.execute_input": "2021-10-23T05:55:58.747424Z",
          "iopub.status.busy": "2021-10-23T05:55:58.746736Z",
          "iopub.status.idle": "2021-10-23T05:55:58.781813Z",
          "shell.execute_reply": "2021-10-23T05:55:58.781229Z"
        },
        "id": "HiitSmD5Xex-",
        "outputId": "d29f45a0-710a-43e5-e450-35906801ea71"
      },
      "outputs": [
        {
          "output_type": "execute_result",
          "data": {
            "text/plain": [
              "array([0, 0, 0, 0, 0, 0, 0, 1, 1, 1])"
            ]
          },
          "metadata": {},
          "execution_count": 15
        }
      ],
      "source": [
        "from sklearn.model_selection import cross_val_predict\n",
        "\n",
        "preds = cross_val_predict(estimator=pipe_lr,\n",
        "                          X=X_train,\n",
        "                          y=y_train,\n",
        "                          cv=10,\n",
        "                          n_jobs=-1)\n",
        "preds[:10]"
      ]
    },
    {
      "cell_type": "markdown",
      "metadata": {
        "id": "gaI43iGHXex_"
      },
      "source": [
        "`method` 매개변수에 반환될 값을 계산하기 위한 모델의 메서드를 지정할 수 있습니다. 예를 들어 `method='predict_proba'`로 지정하면 예측 확률을 반환합니다. `‘predict’`, `‘predict_proba’`, `‘predict_log_proba’`, `‘decision_function’` 등이 가능하며 기본값은 `'predict'`입니다."
      ]
    },
    {
      "cell_type": "code",
      "execution_count": 16,
      "metadata": {
        "colab": {
          "base_uri": "https://localhost:8080/"
        },
        "execution": {
          "iopub.execute_input": "2021-10-23T05:55:58.787613Z",
          "iopub.status.busy": "2021-10-23T05:55:58.786920Z",
          "iopub.status.idle": "2021-10-23T05:55:58.841788Z",
          "shell.execute_reply": "2021-10-23T05:55:58.841176Z"
        },
        "id": "4FRSLbhbXex_",
        "outputId": "42b8c25b-0bf5-48fc-d0b5-137e55de958e"
      },
      "outputs": [
        {
          "output_type": "execute_result",
          "data": {
            "text/plain": [
              "array([[9.93982352e-01, 6.01764759e-03],\n",
              "       [7.64328337e-01, 2.35671663e-01],\n",
              "       [9.72683946e-01, 2.73160539e-02],\n",
              "       [8.41658121e-01, 1.58341879e-01],\n",
              "       [9.97144940e-01, 2.85506043e-03],\n",
              "       [9.99803660e-01, 1.96339882e-04],\n",
              "       [9.99324159e-01, 6.75840609e-04],\n",
              "       [2.12145074e-06, 9.99997879e-01],\n",
              "       [1.28668437e-01, 8.71331563e-01],\n",
              "       [7.76260670e-04, 9.99223739e-01]])"
            ]
          },
          "metadata": {},
          "execution_count": 16
        }
      ],
      "source": [
        "from sklearn.model_selection import cross_val_predict\n",
        "\n",
        "preds = cross_val_predict(estimator=pipe_lr,\n",
        "                          X=X_train,\n",
        "                          y=y_train,\n",
        "                          cv=10,\n",
        "                          method='predict_proba',\n",
        "                          n_jobs=-1)\n",
        "preds[:10]"
      ]
    },
    {
      "cell_type": "markdown",
      "metadata": {
        "id": "70pHlbHmXex_"
      },
      "source": [
        "<br>"
      ]
    },
    {
      "cell_type": "markdown",
      "metadata": {
        "id": "L0HTBIHNXex_"
      },
      "source": [
        "# 학습 곡선과 검증 곡선을 사용한 알고리즘 디버깅"
      ]
    },
    {
      "cell_type": "markdown",
      "metadata": {
        "id": "PW1UmZR2Xex_"
      },
      "source": [
        "##  학습 곡선으로 편향과 분산 문제 분석"
      ]
    },
    {
      "cell_type": "code",
      "execution_count": 17,
      "metadata": {
        "colab": {
          "base_uri": "https://localhost:8080/",
          "height": 538
        },
        "execution": {
          "iopub.execute_input": "2021-10-23T05:55:58.845930Z",
          "iopub.status.busy": "2021-10-23T05:55:58.845103Z",
          "iopub.status.idle": "2021-10-23T05:55:58.849160Z",
          "shell.execute_reply": "2021-10-23T05:55:58.849647Z"
        },
        "id": "OOXnlujfXex_",
        "outputId": "c8ed931c-612c-42b0-9573-1be6a826ca0b"
      },
      "outputs": [
        {
          "output_type": "execute_result",
          "data": {
            "text/html": [
              "<img src=\"https://git.io/JtsTi\" width=\"600\"/>"
            ],
            "text/plain": [
              "<IPython.core.display.Image object>"
            ]
          },
          "metadata": {},
          "execution_count": 17
        }
      ],
      "source": [
        "Image(url='https://git.io/JtsTi', width=600)"
      ]
    },
    {
      "cell_type": "code",
      "execution_count": 18,
      "metadata": {
        "colab": {
          "base_uri": "https://localhost:8080/",
          "height": 487
        },
        "execution": {
          "iopub.execute_input": "2021-10-23T05:55:58.859193Z",
          "iopub.status.busy": "2021-10-23T05:55:58.852445Z",
          "iopub.status.idle": "2021-10-23T05:56:00.683555Z",
          "shell.execute_reply": "2021-10-23T05:56:00.684520Z"
        },
        "id": "Vs0IzgY7XeyA",
        "outputId": "cf5b7bde-26a3-4ba8-d7e7-840c22a53ecd"
      },
      "outputs": [
        {
          "output_type": "display_data",
          "data": {
            "text/plain": [
              "<Figure size 640x480 with 1 Axes>"
            ],
            "image/png": "[encoded data removed]"
          },
          "metadata": {}
        }
      ],
      "source": [
        "import matplotlib.pyplot as plt\n",
        "from sklearn.model_selection import learning_curve\n",
        "\n",
        "\n",
        "pipe_lr = make_pipeline(StandardScaler(),\n",
        "                        LogisticRegression(penalty='l2', random_state=1,\n",
        "                                           max_iter=10000))\n",
        "\n",
        "train_sizes, train_scores, test_scores =\\\n",
        "                learning_curve(estimator=pipe_lr,\n",
        "                               X=X_train,\n",
        "                               y=y_train,\n",
        "                               train_sizes=np.linspace(0.1, 1.0, 10),\n",
        "                               cv=10,\n",
        "                               n_jobs=1)\n",
        "\n",
        "train_mean = np.mean(train_scores, axis=1)\n",
        "train_std = np.std(train_scores, axis=1)\n",
        "test_mean = np.mean(test_scores, axis=1)\n",
        "test_std = np.std(test_scores, axis=1)\n",
        "\n",
        "plt.plot(train_sizes, train_mean,\n",
        "         color='blue', marker='o',\n",
        "         markersize=5, label='Training accuracy')\n",
        "\n",
        "plt.fill_between(train_sizes,\n",
        "                 train_mean + train_std,\n",
        "                 train_mean - train_std,\n",
        "                 alpha=0.15, color='blue')\n",
        "\n",
        "plt.plot(train_sizes, test_mean,\n",
        "         color='green', linestyle='--',\n",
        "         marker='s', markersize=5,\n",
        "         label='Validation accuracy')\n",
        "\n",
        "plt.fill_between(train_sizes,\n",
        "                 test_mean + test_std,\n",
        "                 test_mean - test_std,\n",
        "                 alpha=0.15, color='green')\n",
        "\n",
        "plt.grid()\n",
        "plt.xlabel('Number of training examples')\n",
        "plt.ylabel('Accuracy')\n",
        "plt.legend(loc='lower right')\n",
        "plt.ylim([0.8, 1.03])\n",
        "plt.tight_layout()\n",
        "# plt.savefig('images/06_05.png', dpi=300)\n",
        "plt.show()"
      ]
    },
    {
      "cell_type": "markdown",
      "metadata": {
        "id": "c5_aBJ5OXeyA"
      },
      "source": [
        "<br>"
      ]
    },
    {
      "cell_type": "markdown",
      "metadata": {
        "id": "7ktQMnb5XeyB"
      },
      "source": [
        "##  검증 곡선으로 과대적합과 과소적합 조사"
      ]
    },
    {
      "cell_type": "code",
      "execution_count": 19,
      "metadata": {
        "colab": {
          "base_uri": "https://localhost:8080/",
          "height": 486
        },
        "execution": {
          "iopub.execute_input": "2021-10-23T05:56:00.690528Z",
          "iopub.status.busy": "2021-10-23T05:56:00.689313Z",
          "iopub.status.idle": "2021-10-23T05:56:03.143763Z",
          "shell.execute_reply": "2021-10-23T05:56:03.144245Z"
        },
        "id": "Ruln2oWfXeyB",
        "outputId": "b4cffbd3-85ca-4997-df18-037d6e10f257",
        "scrolled": true
      },
      "outputs": [
        {
          "output_type": "display_data",
          "data": {
            "text/plain": [
              "<Figure size 640x480 with 1 Axes>"
            ],
            "image/png": "[encoded data removed]"
          },
          "metadata": {}
        }
      ],
      "source": [
        "from sklearn.model_selection import validation_curve\n",
        "\n",
        "\n",
        "param_range = [0.001, 0.01, 0.1, 1.0, 10.0, 100.0]\n",
        "train_scores, test_scores = validation_curve(\n",
        "                estimator=pipe_lr,\n",
        "                X=X_train,\n",
        "                y=y_train,\n",
        "                param_name='logisticregression__C',\n",
        "                param_range=param_range,\n",
        "                cv=10)\n",
        "\n",
        "train_mean = np.mean(train_scores, axis=1)\n",
        "train_std = np.std(train_scores, axis=1)\n",
        "test_mean = np.mean(test_scores, axis=1)\n",
        "test_std = np.std(test_scores, axis=1)\n",
        "\n",
        "plt.plot(param_range, train_mean,\n",
        "         color='blue', marker='o',\n",
        "         markersize=5, label='Training accuracy')\n",
        "\n",
        "plt.fill_between(param_range, train_mean + train_std,\n",
        "                 train_mean - train_std, alpha=0.15,\n",
        "                 color='blue')\n",
        "\n",
        "plt.plot(param_range, test_mean,\n",
        "         color='green', linestyle='--',\n",
        "         marker='s', markersize=5,\n",
        "         label='Validation accuracy')\n",
        "\n",
        "plt.fill_between(param_range,\n",
        "                 test_mean + test_std,\n",
        "                 test_mean - test_std,\n",
        "                 alpha=0.15, color='green')\n",
        "\n",
        "plt.grid()\n",
        "plt.xscale('log')\n",
        "plt.legend(loc='lower right')\n",
        "plt.xlabel('Parameter C')\n",
        "plt.ylabel('Accuracy')\n",
        "plt.ylim([0.8, 1.0])\n",
        "plt.tight_layout()\n",
        "# plt.savefig('images/06_06.png', dpi=300)\n",
        "plt.show()"
      ]
    },
    {
      "cell_type": "markdown",
      "metadata": {
        "id": "zjw7glssXeyB"
      },
      "source": [
        "<br>"
      ]
    },
    {
      "cell_type": "markdown",
      "metadata": {
        "id": "kP91PEYGXeyB"
      },
      "source": [
        "#  그리드 서치를 사용한 머신 러닝 모델 세부 튜닝"
      ]
    },
    {
      "cell_type": "markdown",
      "metadata": {
        "id": "SR4wopwbXeyB"
      },
      "source": [
        "##  그리드 서치를 사용한 하이퍼파라미터 튜닝"
      ]
    },
    {
      "cell_type": "code",
      "execution_count": 20,
      "metadata": {
        "colab": {
          "base_uri": "https://localhost:8080/"
        },
        "execution": {
          "iopub.execute_input": "2021-10-23T05:56:03.148180Z",
          "iopub.status.busy": "2021-10-23T05:56:03.147366Z",
          "iopub.status.idle": "2021-10-23T05:56:05.335756Z",
          "shell.execute_reply": "2021-10-23T05:56:05.336258Z"
        },
        "id": "gwVJIOhMXeyB",
        "outputId": "6e4347c9-101f-46df-d85e-ac4623a0c5cc"
      },
      "outputs": [
        {
          "output_type": "stream",
          "name": "stdout",
          "text": [
            "0.9846859903381642\n",
            "{'svc__C': 100.0, 'svc__gamma': 0.001, 'svc__kernel': 'rbf'}\n"
          ]
        }
      ],
      "source": [
        "from sklearn.model_selection import GridSearchCV\n",
        "from sklearn.svm import SVC\n",
        "\n",
        "pipe_svc = make_pipeline(StandardScaler(),\n",
        "                         SVC(random_state=1))\n",
        "\n",
        "param_range = [0.0001, 0.001, 0.01, 0.1, 1.0, 10.0, 100.0, 1000.0]\n",
        "\n",
        "param_grid = [{'svc__C': param_range,\n",
        "               'svc__kernel': ['linear']},\n",
        "              {'svc__C': param_range,\n",
        "               'svc__gamma': param_range,\n",
        "               'svc__kernel': ['rbf']}]\n",
        "\n",
        "gs = GridSearchCV(estimator=pipe_svc,\n",
        "                  param_grid=param_grid,\n",
        "                  scoring='accuracy',\n",
        "                  refit=True,\n",
        "                  cv=10,\n",
        "                  n_jobs=-1)\n",
        "gs = gs.fit(X_train, y_train)\n",
        "print(gs.best_score_)\n",
        "print(gs.best_params_)"
      ]
    },
    {
      "cell_type": "code",
      "execution_count": 21,
      "metadata": {
        "colab": {
          "base_uri": "https://localhost:8080/"
        },
        "execution": {
          "iopub.execute_input": "2021-10-23T05:56:05.342119Z",
          "iopub.status.busy": "2021-10-23T05:56:05.340471Z",
          "iopub.status.idle": "2021-10-23T05:56:05.346932Z",
          "shell.execute_reply": "2021-10-23T05:56:05.346158Z"
        },
        "id": "kzgc-Z3UXeyC",
        "outputId": "688c9a0a-cf9a-4e06-f8ba-cdce425e9b51"
      },
      "outputs": [
        {
          "output_type": "stream",
          "name": "stdout",
          "text": [
            "테스트 정확도: 0.974\n"
          ]
        }
      ],
      "source": [
        "clf = gs.best_estimator_\n",
        "\n",
        "# refit=True로 지정했기 때문에 다시 fit() 메서드를 호출할 필요가 없습니다.\n",
        "# clf.fit(X_train, y_train)\n",
        "\n",
        "print('테스트 정확도: %.3f' % clf.score(X_test, y_test))"
      ]
    },
    {
      "cell_type": "markdown",
      "metadata": {
        "id": "CWqRUnKxXeyC"
      },
      "source": [
        "`GridSearchCV` 클래스와 `cross_valiate` 함수에서 `return_train_score` 매개변수를 `True`로 지정하면 훈련 폴드에 대한 점수를 계산하여 반환합니다. 훈련 세트에 대한 점수를 보고 과대적합과 과소적합에 대한 정보를 얻을 수 있지만 실행 시간이 오래 걸릴 수 있습니다. `param_range`에 8개의 값이 지정되어 있기 때문에 `SVC` 모델은 `'linear'` 커널에 대해 8번, `'rbf'` 커널에 대해 64번 교차 검증이 수행됩니다. 따라서 훈련 폴드마다 반환되는 점수는 총 72개입니다. 이 값은 `GridSearchCV` 클래스의 `cv_results_` 딕셔너리 속성에 split{폴드번호}_train_score 와 같은 키에 저장되어 있습니다. 예를 들어 첫 번째 폴드의 점수는 `'split0_train_score'` 키로 저장되어 있습니다."
      ]
    },
    {
      "cell_type": "code",
      "execution_count": 22,
      "metadata": {
        "execution": {
          "iopub.execute_input": "2021-10-23T05:56:05.354638Z",
          "iopub.status.busy": "2021-10-23T05:56:05.353690Z",
          "iopub.status.idle": "2021-10-23T05:56:09.033133Z",
          "shell.execute_reply": "2021-10-23T05:56:09.032301Z"
        },
        "id": "eikpmc6IXeyD"
      },
      "outputs": [],
      "source": [
        "gs = GridSearchCV(estimator=pipe_svc,\n",
        "                  param_grid=param_grid,\n",
        "                  scoring='accuracy',\n",
        "                  cv=10,\n",
        "                  return_train_score=True,\n",
        "                  n_jobs=-1)\n",
        "gs = gs.fit(X_train, y_train)"
      ]
    },
    {
      "cell_type": "code",
      "execution_count": 23,
      "metadata": {
        "colab": {
          "base_uri": "https://localhost:8080/"
        },
        "execution": {
          "iopub.execute_input": "2021-10-23T05:56:09.039438Z",
          "iopub.status.busy": "2021-10-23T05:56:09.038781Z",
          "iopub.status.idle": "2021-10-23T05:56:09.045602Z",
          "shell.execute_reply": "2021-10-23T05:56:09.046040Z"
        },
        "id": "Pl6MWXgJXeyD",
        "outputId": "f25bef07-16ae-4184-be78-4fd7d39e1b27"
      },
      "outputs": [
        {
          "output_type": "execute_result",
          "data": {
            "text/plain": [
              "array([0.6405868 , 0.93643032, 0.97555012, 0.98777506, 0.98533007,\n",
              "       0.99266504, 0.99755501, 1.        , 0.62591687, 0.62591687,\n",
              "       0.62591687, 0.62591687, 0.62591687, 0.62591687, 0.62591687,\n",
              "       0.62591687, 0.62591687, 0.62591687, 0.62591687, 0.62591687,\n",
              "       0.62591687, 0.62591687, 0.62591687, 0.62591687, 0.62591687,\n",
              "       0.62591687, 0.62591687, 0.62591687, 0.62591687, 0.62591687,\n",
              "       0.62591687, 0.62591687, 0.62591687, 0.7799511 , 0.94621027,\n",
              "       0.96577017, 0.62591687, 0.62591687, 0.62591687, 0.62591687,\n",
              "       0.78484108, 0.94621027, 0.9804401 , 0.99266504, 1.        ,\n",
              "       1.        , 1.        , 1.        , 0.94621027, 0.97799511,\n",
              "       0.99266504, 1.        , 1.        , 1.        , 1.        ,\n",
              "       1.        , 0.97799511, 0.98777506, 0.99511002, 1.        ,\n",
              "       1.        , 1.        , 1.        , 1.        , 0.98533007,\n",
              "       0.99266504, 1.        , 1.        , 1.        , 1.        ,\n",
              "       1.        , 1.        ])"
            ]
          },
          "metadata": {},
          "execution_count": 23
        }
      ],
      "source": [
        "gs.cv_results_['split0_train_score']"
      ]
    },
    {
      "cell_type": "markdown",
      "metadata": {
        "id": "BlPgz112XeyD"
      },
      "source": [
        "전체 훈련 점수의 평균 값은 `'mean_train_score'` 키에 저장되어 있습니다."
      ]
    },
    {
      "cell_type": "code",
      "execution_count": 24,
      "metadata": {
        "colab": {
          "base_uri": "https://localhost:8080/"
        },
        "execution": {
          "iopub.execute_input": "2021-10-23T05:56:09.050272Z",
          "iopub.status.busy": "2021-10-23T05:56:09.049264Z",
          "iopub.status.idle": "2021-10-23T05:56:09.054748Z",
          "shell.execute_reply": "2021-10-23T05:56:09.055230Z"
        },
        "id": "wyhcP07sXeyD",
        "outputId": "90bd79fb-a771-42bd-8e67-ee02c8e717a2",
        "scrolled": true
      },
      "outputs": [
        {
          "output_type": "execute_result",
          "data": {
            "text/plain": [
              "array([0.6402928 , 0.93724074, 0.97240801, 0.98510406, 0.98803447,\n",
              "       0.99145447, 0.99707019, 0.9992677 , 0.62637307, 0.62637307,\n",
              "       0.62637307, 0.62637307, 0.62637307, 0.62637307, 0.62637307,\n",
              "       0.62637307, 0.62637307, 0.62637307, 0.62637307, 0.62637307,\n",
              "       0.62637307, 0.62637307, 0.62637307, 0.62637307, 0.62637307,\n",
              "       0.62637307, 0.62637307, 0.62637307, 0.62637307, 0.62637307,\n",
              "       0.62637307, 0.62637307, 0.62637307, 0.77070249, 0.94700817,\n",
              "       0.97167094, 0.62637307, 0.62637307, 0.62637307, 0.62637307,\n",
              "       0.77949371, 0.94725326, 0.97704753, 0.99291848, 1.        ,\n",
              "       1.        , 1.        , 1.        , 0.94652096, 0.97753354,\n",
              "       0.99023257, 1.        , 1.        , 1.        , 1.        ,\n",
              "       1.        , 0.97680064, 0.98852287, 0.99755799, 1.        ,\n",
              "       1.        , 1.        , 1.        , 1.        , 0.98803387,\n",
              "       0.99291848, 1.        , 1.        , 1.        , 1.        ,\n",
              "       1.        , 1.        ])"
            ]
          },
          "metadata": {},
          "execution_count": 24
        }
      ],
      "source": [
        "gs.cv_results_['mean_train_score']"
      ]
    },
    {
      "cell_type": "markdown",
      "metadata": {
        "id": "kWZ4WJ0aXeyD"
      },
      "source": [
        "비슷하게 첫 번째 폴드에 대한 테스트 점수는 `'split0_test_score'` 키에 저장되어 있습니다."
      ]
    },
    {
      "cell_type": "code",
      "execution_count": 25,
      "metadata": {
        "colab": {
          "base_uri": "https://localhost:8080/"
        },
        "execution": {
          "iopub.execute_input": "2021-10-23T05:56:09.061500Z",
          "iopub.status.busy": "2021-10-23T05:56:09.060532Z",
          "iopub.status.idle": "2021-10-23T05:56:09.063953Z",
          "shell.execute_reply": "2021-10-23T05:56:09.064451Z"
        },
        "id": "6ffxAFTEXeyD",
        "outputId": "a0d65041-fba8-44ca-c942-2abc19665083"
      },
      "outputs": [
        {
          "output_type": "execute_result",
          "data": {
            "text/plain": [
              "array([0.63043478, 0.89130435, 0.95652174, 0.97826087, 0.95652174,\n",
              "       0.93478261, 0.95652174, 0.93478261, 0.63043478, 0.63043478,\n",
              "       0.63043478, 0.63043478, 0.63043478, 0.63043478, 0.63043478,\n",
              "       0.63043478, 0.63043478, 0.63043478, 0.63043478, 0.63043478,\n",
              "       0.63043478, 0.63043478, 0.63043478, 0.63043478, 0.63043478,\n",
              "       0.63043478, 0.63043478, 0.63043478, 0.63043478, 0.63043478,\n",
              "       0.63043478, 0.63043478, 0.63043478, 0.69565217, 0.93478261,\n",
              "       0.95652174, 0.63043478, 0.63043478, 0.63043478, 0.63043478,\n",
              "       0.69565217, 0.93478261, 0.93478261, 1.        , 0.63043478,\n",
              "       0.63043478, 0.63043478, 0.63043478, 0.93478261, 0.97826087,\n",
              "       1.        , 1.        , 0.63043478, 0.63043478, 0.63043478,\n",
              "       0.63043478, 0.97826087, 0.97826087, 0.97826087, 1.        ,\n",
              "       0.63043478, 0.63043478, 0.63043478, 0.63043478, 0.97826087,\n",
              "       0.95652174, 0.95652174, 1.        , 0.63043478, 0.63043478,\n",
              "       0.63043478, 0.63043478])"
            ]
          },
          "metadata": {},
          "execution_count": 25
        }
      ],
      "source": [
        "gs.cv_results_['split0_test_score']"
      ]
    },
    {
      "cell_type": "markdown",
      "metadata": {
        "id": "DpViR9TDXeyE"
      },
      "source": [
        "`GridSearchCV` 클래스의 객체에서도 최종 모델의 `score`, `predict`, `transform` 메서드를 바로 호출할 수 있습니다."
      ]
    },
    {
      "cell_type": "code",
      "execution_count": 26,
      "metadata": {
        "colab": {
          "base_uri": "https://localhost:8080/"
        },
        "execution": {
          "iopub.execute_input": "2021-10-23T05:56:09.070018Z",
          "iopub.status.busy": "2021-10-23T05:56:09.069068Z",
          "iopub.status.idle": "2021-10-23T05:56:09.073295Z",
          "shell.execute_reply": "2021-10-23T05:56:09.072707Z"
        },
        "id": "6XykF-FtXeyE",
        "outputId": "5159c127-2b0a-46fa-d02d-bfcf74b9c681"
      },
      "outputs": [
        {
          "output_type": "stream",
          "name": "stdout",
          "text": [
            "테스트 정확도: 0.974\n"
          ]
        }
      ],
      "source": [
        "print('테스트 정확도: %.3f' % gs.score(X_test, y_test))"
      ]
    },
    {
      "cell_type": "markdown",
      "metadata": {
        "id": "5RIW-6Q2XeyE"
      },
      "source": [
        "매개변수 탐색 범위가 넓거나 규제 매개변수 `C`와 같이 연속적인 값을 탐색해야 하는 경우에 `RandomizedSearchCV`가 더 효율적입니다. 이 클래스는 `n_iter` 매개변수로 탐색 횟수를 조정할 수 있어 컴퓨팅 자원에 맞게 탐색을 실행할 수 있습니다. `GridSearchCV` 클래스에는 탐색할 매개변수 값을 리스트로 전달했습니다. `RandomizedSearchCV`에는 샘플링 가능한 분포를 지정해야 합니다. 예를 들면 `scipy.stats.uniform`, `scipy.stats.randint` 객체 등이 있습니다. 사이킷런 0.22 버전에서 `scipy.stats.reciprocal`을 사용한 로그 균등 분포(log-uniform distribution) 클래스 `loguniform`을 제공합니다.\n",
        "\n",
        "다음 예에서 그리드 서치에서 사용한 것과 동일한 범위로 매개변수 `C`를 탐색해 보겠습니다. 대신 여기에서는 탐색 횟수를 30회로 줄여서 수행합니다."
      ]
    },
    {
      "cell_type": "code",
      "execution_count": 27,
      "metadata": {
        "colab": {
          "base_uri": "https://localhost:8080/"
        },
        "execution": {
          "iopub.execute_input": "2021-10-23T05:56:09.077186Z",
          "iopub.status.busy": "2021-10-23T05:56:09.076459Z",
          "iopub.status.idle": "2021-10-23T05:56:10.045752Z",
          "shell.execute_reply": "2021-10-23T05:56:10.044993Z"
        },
        "id": "QFbACppOXeyE",
        "outputId": "ec6eabc7-31cd-49d6-8dce-0618f5956090"
      },
      "outputs": [
        {
          "output_type": "stream",
          "name": "stdout",
          "text": [
            "0.9824637681159419\n",
            "{'svc__C': 210.66440708362174, 'svc__gamma': 0.0006861724481510377, 'svc__kernel': 'rbf'}\n"
          ]
        }
      ],
      "source": [
        "from sklearn.model_selection import RandomizedSearchCV\n",
        "from sklearn.utils.fixes import loguniform\n",
        "\n",
        "distribution =  loguniform(0.0001, 1000.0)\n",
        "\n",
        "param_dist = [{'svc__C': distribution,\n",
        "               'svc__kernel': ['linear']},\n",
        "              {'svc__C': distribution,\n",
        "               'svc__gamma': distribution,\n",
        "               'svc__kernel': ['rbf']}]\n",
        "\n",
        "rs = RandomizedSearchCV(estimator=pipe_svc,\n",
        "                        param_distributions=param_dist,\n",
        "                        n_iter=30,\n",
        "                        cv=10,\n",
        "                        random_state=1,\n",
        "                        n_jobs=-1)\n",
        "rs = rs.fit(X_train, y_train)\n",
        "print(rs.best_score_)\n",
        "print(rs.best_params_)"
      ]
    },
    {
      "cell_type": "markdown",
      "metadata": {
        "id": "ox0WF0DYXeyE"
      },
      "source": [
        "결과에서 알 수 있듯이 `RandomizedSearchCV`의 탐색 횟수는 절반 이상 적지만 거의 비슷한 성능을 내는 매개변수 조합을 찾았습니다."
      ]
    },
    {
      "cell_type": "markdown",
      "metadata": {
        "id": "2WYH5DSRXeyE"
      },
      "source": [
        "<br>"
      ]
    },
    {
      "cell_type": "markdown",
      "metadata": {
        "id": "-32xp1JGXeyE"
      },
      "source": [
        "## 중첩 교차 검증을 사용한 알고리즘 선택"
      ]
    },
    {
      "cell_type": "code",
      "execution_count": 28,
      "metadata": {
        "colab": {
          "base_uri": "https://localhost:8080/",
          "height": 453
        },
        "execution": {
          "iopub.execute_input": "2021-10-23T05:56:10.053232Z",
          "iopub.status.busy": "2021-10-23T05:56:10.052404Z",
          "iopub.status.idle": "2021-10-23T05:56:10.055708Z",
          "shell.execute_reply": "2021-10-23T05:56:10.056334Z"
        },
        "id": "H7HK1myoXeyE",
        "outputId": "b2cf3ed5-6da6-479f-efbd-7b840b60fcc2"
      },
      "outputs": [
        {
          "output_type": "execute_result",
          "data": {
            "text/html": [
              "<img src=\"https://git.io/JtsTP\" width=\"500\"/>"
            ],
            "text/plain": [
              "<IPython.core.display.Image object>"
            ]
          },
          "metadata": {},
          "execution_count": 28
        }
      ],
      "source": [
        "Image(url='https://git.io/JtsTP', width=500)"
      ]
    },
    {
      "cell_type": "code",
      "execution_count": 29,
      "metadata": {
        "colab": {
          "base_uri": "https://localhost:8080/"
        },
        "execution": {
          "iopub.execute_input": "2021-10-23T05:56:10.065549Z",
          "iopub.status.busy": "2021-10-23T05:56:10.062976Z",
          "iopub.status.idle": "2021-10-23T05:56:14.835499Z",
          "shell.execute_reply": "2021-10-23T05:56:14.836007Z"
        },
        "id": "MHJRx5G6XeyF",
        "outputId": "7148a9e8-3d07-486a-8ad1-13c582eb4e4a"
      },
      "outputs": [
        {
          "output_type": "stream",
          "name": "stdout",
          "text": [
            "CV 정확도: 0.974 +/- 0.015\n"
          ]
        }
      ],
      "source": [
        "gs = GridSearchCV(estimator=pipe_svc,\n",
        "                  param_grid=param_grid,\n",
        "                  scoring='accuracy',\n",
        "                  cv=2)\n",
        "\n",
        "scores = cross_val_score(gs, X_train, y_train,\n",
        "                         scoring='accuracy', cv=5)\n",
        "print('CV 정확도: %.3f +/- %.3f' % (np.mean(scores),\n",
        "                                      np.std(scores)))"
      ]
    },
    {
      "cell_type": "code",
      "execution_count": 30,
      "metadata": {
        "colab": {
          "base_uri": "https://localhost:8080/"
        },
        "execution": {
          "iopub.execute_input": "2021-10-23T05:56:14.842480Z",
          "iopub.status.busy": "2021-10-23T05:56:14.841764Z",
          "iopub.status.idle": "2021-10-23T05:56:15.124141Z",
          "shell.execute_reply": "2021-10-23T05:56:15.124595Z"
        },
        "id": "CcSQo0evXeyF",
        "outputId": "1d44fbe1-cd15-44a4-cbc4-e9b701d7612b"
      },
      "outputs": [
        {
          "output_type": "stream",
          "name": "stdout",
          "text": [
            "CV 정확도: 0.934 +/- 0.016\n"
          ]
        }
      ],
      "source": [
        "from sklearn.tree import DecisionTreeClassifier\n",
        "\n",
        "gs = GridSearchCV(estimator=DecisionTreeClassifier(random_state=0),\n",
        "                  param_grid=[{'max_depth': [1, 2, 3, 4, 5, 6, 7, None]}],\n",
        "                  scoring='accuracy',\n",
        "                  cv=2)\n",
        "\n",
        "scores = cross_val_score(gs, X_train, y_train,\n",
        "                         scoring='accuracy', cv=5)\n",
        "print('CV 정확도: %.3f +/- %.3f' % (np.mean(scores),\n",
        "                                      np.std(scores)))"
      ]
    },
    {
      "cell_type": "markdown",
      "metadata": {
        "id": "ycotzjbxXeyF"
      },
      "source": [
        "<br>"
      ]
    },
    {
      "cell_type": "markdown",
      "metadata": {
        "id": "kLR76gLSXeyF"
      },
      "source": [
        "# 여러 가지 성능 평가 지표"
      ]
    },
    {
      "cell_type": "markdown",
      "metadata": {
        "id": "L59OVK5DXeyF"
      },
      "source": [
        "##  오차 행렬"
      ]
    },
    {
      "cell_type": "code",
      "execution_count": 31,
      "metadata": {
        "colab": {
          "base_uri": "https://localhost:8080/",
          "height": 319
        },
        "execution": {
          "iopub.execute_input": "2021-10-23T05:56:15.130689Z",
          "iopub.status.busy": "2021-10-23T05:56:15.129965Z",
          "iopub.status.idle": "2021-10-23T05:56:15.134812Z",
          "shell.execute_reply": "2021-10-23T05:56:15.134179Z"
        },
        "id": "8noOk3aeXeyF",
        "outputId": "ae2c06e0-af65-4b48-9608-1e0fc22bebb1"
      },
      "outputs": [
        {
          "output_type": "execute_result",
          "data": {
            "text/html": [
              "<img src=\"https://git.io/JtsT1\" width=\"300\"/>"
            ],
            "text/plain": [
              "<IPython.core.display.Image object>"
            ]
          },
          "metadata": {},
          "execution_count": 31
        }
      ],
      "source": [
        "Image(url='https://git.io/JtsT1', width=300)"
      ]
    },
    {
      "cell_type": "code",
      "execution_count": 32,
      "metadata": {
        "colab": {
          "base_uri": "https://localhost:8080/"
        },
        "execution": {
          "iopub.execute_input": "2021-10-23T05:56:15.141447Z",
          "iopub.status.busy": "2021-10-23T05:56:15.140709Z",
          "iopub.status.idle": "2021-10-23T05:56:15.153473Z",
          "shell.execute_reply": "2021-10-23T05:56:15.152790Z"
        },
        "id": "wsL1yO1UXeyF",
        "outputId": "fca28023-aa82-45b6-cbbc-2b89afa106d9"
      },
      "outputs": [
        {
          "output_type": "stream",
          "name": "stdout",
          "text": [
            "[[71  1]\n",
            " [ 2 40]]\n"
          ]
        }
      ],
      "source": [
        "from sklearn.metrics import confusion_matrix\n",
        "\n",
        "pipe_svc.fit(X_train, y_train)\n",
        "y_pred = pipe_svc.predict(X_test)\n",
        "confmat = confusion_matrix(y_true=y_test, y_pred=y_pred)\n",
        "print(confmat)"
      ]
    },
    {
      "cell_type": "code",
      "execution_count": 33,
      "metadata": {
        "colab": {
          "base_uri": "https://localhost:8080/",
          "height": 257
        },
        "execution": {
          "iopub.execute_input": "2021-10-23T05:56:15.192774Z",
          "iopub.status.busy": "2021-10-23T05:56:15.191795Z",
          "iopub.status.idle": "2021-10-23T05:56:15.293913Z",
          "shell.execute_reply": "2021-10-23T05:56:15.294736Z"
        },
        "id": "9FNJQbfvXeyG",
        "outputId": "e28d209b-b553-4f19-d8f4-7128a9d7670a"
      },
      "outputs": [
        {
          "output_type": "display_data",
          "data": {
            "text/plain": [
              "<Figure size 250x250 with 1 Axes>"
            ],
            "image/png": "[encoded data removed]"
          },
          "metadata": {}
        }
      ],
      "source": [
        "fig, ax = plt.subplots(figsize=(2.5, 2.5))\n",
        "ax.matshow(confmat, cmap=plt.cm.Blues, alpha=0.3)\n",
        "for i in range(confmat.shape[0]):\n",
        "    for j in range(confmat.shape[1]):\n",
        "        ax.text(x=j, y=i, s=confmat[i, j], va='center', ha='center')\n",
        "\n",
        "plt.xlabel('Predicted label')\n",
        "plt.ylabel('True label')\n",
        "\n",
        "plt.tight_layout()\n",
        "# plt.savefig('images/06_09.png', dpi=300)\n",
        "plt.show()"
      ]
    },
    {
      "cell_type": "code",
      "execution_count": 34,
      "metadata": {
        "colab": {
          "base_uri": "https://localhost:8080/",
          "height": 450
        },
        "execution": {
          "iopub.execute_input": "2021-10-23T05:56:15.301384Z",
          "iopub.status.busy": "2021-10-23T05:56:15.300158Z",
          "iopub.status.idle": "2021-10-23T05:56:15.451392Z",
          "shell.execute_reply": "2021-10-23T05:56:15.450276Z"
        },
        "id": "AD4POEzOXeyG",
        "outputId": "5d3a0219-7856-47f1-a71f-b270e3e067b1",
        "scrolled": true
      },
      "outputs": [
        {
          "output_type": "display_data",
          "data": {
            "text/plain": [
              "<Figure size 640x480 with 2 Axes>"
            ],
            "image/png": "[encoded data removed]"
          },
          "metadata": {}
        }
      ],
      "source": [
        "# from sklearn.metrics import plot_confusion_matrix\n",
        "# plot_confusion_matrix(pipe_svc, X_test, y_test)\n",
        "\n",
        "from sklearn.metrics import ConfusionMatrixDisplay\n",
        "ConfusionMatrixDisplay.from_estimator(pipe_svc, X_test, y_test)\n",
        "\n",
        "# plt.savefig('images/06_plot_confusion_matrix.png', dpi=300)\n",
        "plt.show()"
      ]
    },
    {
      "cell_type": "code",
      "execution_count": 35,
      "metadata": {
        "colab": {
          "base_uri": "https://localhost:8080/",
          "height": 450
        },
        "execution": {
          "iopub.execute_input": "2021-10-23T05:56:15.301384Z",
          "iopub.status.busy": "2021-10-23T05:56:15.300158Z",
          "iopub.status.idle": "2021-10-23T05:56:15.451392Z",
          "shell.execute_reply": "2021-10-23T05:56:15.450276Z"
        },
        "outputId": "b8f48374-6056-43e3-b507-25c2eecdcb0d",
        "id": "wMxXBv_iBNun"
      },
      "outputs": [
        {
          "output_type": "display_data",
          "data": {
            "text/plain": [
              "<Figure size 640x480 with 2 Axes>"
            ],
            "image/png": "[encoded data removed]"
          },
          "metadata": {}
        }
      ],
      "source": [
        "ConfusionMatrixDisplay.from_predictions(y_test, y_pred)\n",
        "\n",
        "plt.show()"
      ]
    },
    {
      "cell_type": "code",
      "execution_count": 36,
      "metadata": {
        "colab": {
          "base_uri": "https://localhost:8080/",
          "height": 449
        },
        "execution": {
          "iopub.execute_input": "2021-10-23T05:56:15.458941Z",
          "iopub.status.busy": "2021-10-23T05:56:15.457491Z",
          "iopub.status.idle": "2021-10-23T05:56:15.696716Z",
          "shell.execute_reply": "2021-10-23T05:56:15.697289Z"
        },
        "id": "0Pct5OUkXeyG",
        "outputId": "24ec87ac-edfc-4893-cd97-b3ab115caff5"
      },
      "outputs": [
        {
          "output_type": "display_data",
          "data": {
            "text/plain": [
              "<Figure size 640x480 with 2 Axes>"
            ],
            "image/png": "[encoded data removed]"
          },
          "metadata": {}
        }
      ],
      "source": [
        "# plot_confusion_matrix(pipe_svc, X_test, y_test,\n",
        "#                       normalize='all')\n",
        "ConfusionMatrixDisplay.from_estimator(pipe_svc, X_test, y_test,\n",
        "                                      normalize='all')\n",
        "\n",
        "# plt.savefig('images/06_plot_confusion_matrix_normalize.png', dpi=300)\n",
        "plt.show()"
      ]
    },
    {
      "cell_type": "markdown",
      "metadata": {
        "id": "2Psy3VrhXeyG"
      },
      "source": [
        "### 추가 노트"
      ]
    },
    {
      "cell_type": "markdown",
      "metadata": {
        "id": "BkhNZ-DlXeyG"
      },
      "source": [
        "앞서 클래스 레이블을 인코딩했기 때문에 *악성(malignant)* 종양이 \"양성\" 클래스(1), *양성(benign)* 종양이 \"음성\" 클래스(0)입니다:"
      ]
    },
    {
      "cell_type": "code",
      "execution_count": 37,
      "metadata": {
        "colab": {
          "base_uri": "https://localhost:8080/"
        },
        "execution": {
          "iopub.execute_input": "2021-10-23T05:56:15.704158Z",
          "iopub.status.busy": "2021-10-23T05:56:15.703112Z",
          "iopub.status.idle": "2021-10-23T05:56:15.707076Z",
          "shell.execute_reply": "2021-10-23T05:56:15.707531Z"
        },
        "id": "bNnk8PRZXeyG",
        "outputId": "20ebfbfc-d85a-48d0-9def-2dec3853fe69"
      },
      "outputs": [
        {
          "output_type": "execute_result",
          "data": {
            "text/plain": [
              "array([1, 0])"
            ]
          },
          "metadata": {},
          "execution_count": 37
        }
      ],
      "source": [
        "le.transform(['M', 'B'])"
      ]
    },
    {
      "cell_type": "markdown",
      "metadata": {
        "id": "305wBa5EXeyH"
      },
      "source": [
        "그리고 다음처럼 오차 행렬을 출력했습니다:"
      ]
    },
    {
      "cell_type": "code",
      "execution_count": 38,
      "metadata": {
        "colab": {
          "base_uri": "https://localhost:8080/"
        },
        "execution": {
          "iopub.execute_input": "2021-10-23T05:56:15.714635Z",
          "iopub.status.busy": "2021-10-23T05:56:15.713478Z",
          "iopub.status.idle": "2021-10-23T05:56:15.716844Z",
          "shell.execute_reply": "2021-10-23T05:56:15.717309Z"
        },
        "id": "OWCaiesTXeyH",
        "outputId": "ebeeba73-75b9-43ad-bee7-66709be0517e"
      },
      "outputs": [
        {
          "output_type": "stream",
          "name": "stdout",
          "text": [
            "[[71  1]\n",
            " [ 2 40]]\n"
          ]
        }
      ],
      "source": [
        "confmat = confusion_matrix(y_true=y_test, y_pred=y_pred)\n",
        "print(confmat)"
      ]
    },
    {
      "cell_type": "markdown",
      "metadata": {
        "id": "rFzvm_O0XeyH"
      },
      "source": [
        "클래스 0으로 올바르게 예측된 (진짜) 클래스 0 샘플(진짜 음성)이 행렬의 왼쪽 위에 있는 값입니다(인덱스 0,0). 진짜 음성이 오른쪽 아래(인덱스 1,1)에 있고 진짜 양성이 왼쪽 위에 있도록 순서를 바꾸려면 다음처럼 `labels` 매개변수를 사용합니다:"
      ]
    },
    {
      "cell_type": "code",
      "execution_count": 39,
      "metadata": {
        "colab": {
          "base_uri": "https://localhost:8080/"
        },
        "execution": {
          "iopub.execute_input": "2021-10-23T05:56:15.725038Z",
          "iopub.status.busy": "2021-10-23T05:56:15.724036Z",
          "iopub.status.idle": "2021-10-23T05:56:15.727366Z",
          "shell.execute_reply": "2021-10-23T05:56:15.727853Z"
        },
        "id": "E64NcOUfXeyH",
        "outputId": "3024009d-3884-4dee-c483-d8385931790d"
      },
      "outputs": [
        {
          "output_type": "stream",
          "name": "stdout",
          "text": [
            "[[40  2]\n",
            " [ 1 71]]\n"
          ]
        }
      ],
      "source": [
        "confmat = confusion_matrix(y_true=y_test, y_pred=y_pred, labels=[1, 0])\n",
        "print(confmat)"
      ]
    },
    {
      "cell_type": "markdown",
      "metadata": {
        "id": "xnBgt6VAXeyH"
      },
      "source": [
        "결론:\n",
        "\n",
        "이 예에서 클래스 1(악성 종양)이 양성 클래스입니다. 모델은 71개의 샘플을 정확하게 클래스 0(진짜 음성)으로 분류했습니다. 40개의 샘플은 클래스 1(진짜 양성)로 올바르게 분류했습니다. 클래스 1에 해당하는 두 개의 샘플을 클래스 0(가짜 음성)으로 잘못 분류했고 양성 종양인 하나의 샘플을 악성 종양(가짜 양성)으로 잘못 분류했습니다."
      ]
    },
    {
      "cell_type": "markdown",
      "metadata": {
        "id": "wZIOnICrXeyH"
      },
      "source": [
        "<br>"
      ]
    },
    {
      "cell_type": "markdown",
      "metadata": {
        "id": "73IYKbGNXeyH"
      },
      "source": [
        "##  분류 모델의 정밀도와 재현율 최적화"
      ]
    },
    {
      "cell_type": "markdown",
      "metadata": {
        "id": "oBnixwjDBNuo"
      },
      "source": [
        "$정밀도 = \\dfrac{TP}{TP + FP}$\n",
        "\n",
        "$재현율 = \\dfrac{TP}{FN + TP}$\n",
        "\n",
        "$F1 = 2 \\times \\dfrac{정밀도 \\times 재현율}{정밀도 + 재현율}$"
      ]
    },
    {
      "cell_type": "code",
      "execution_count": 40,
      "metadata": {
        "colab": {
          "base_uri": "https://localhost:8080/"
        },
        "execution": {
          "iopub.execute_input": "2021-10-23T05:56:15.734796Z",
          "iopub.status.busy": "2021-10-23T05:56:15.734103Z",
          "iopub.status.idle": "2021-10-23T05:56:15.741548Z",
          "shell.execute_reply": "2021-10-23T05:56:15.740746Z"
        },
        "id": "hEYG_6vhXeyH",
        "outputId": "5a750ebe-7f33-4fab-cb74-53fb8ddff782"
      },
      "outputs": [
        {
          "output_type": "stream",
          "name": "stdout",
          "text": [
            "정밀도: 0.976\n",
            "재현율: 0.952\n",
            "F1: 0.964\n"
          ]
        }
      ],
      "source": [
        "from sklearn.metrics import precision_score, recall_score, f1_score\n",
        "\n",
        "print('정밀도: %.3f' % precision_score(y_true=y_test, y_pred=y_pred))\n",
        "print('재현율: %.3f' % recall_score(y_true=y_test, y_pred=y_pred))\n",
        "print('F1: %.3f' % f1_score(y_true=y_test, y_pred=y_pred))"
      ]
    },
    {
      "cell_type": "code",
      "execution_count": 41,
      "metadata": {
        "colab": {
          "base_uri": "https://localhost:8080/"
        },
        "execution": {
          "iopub.execute_input": "2021-10-23T05:56:15.749423Z",
          "iopub.status.busy": "2021-10-23T05:56:15.748626Z",
          "iopub.status.idle": "2021-10-23T05:56:16.419312Z",
          "shell.execute_reply": "2021-10-23T05:56:16.418683Z"
        },
        "id": "PmSyi_c1XeyI",
        "outputId": "2a7bae98-2f7d-4a95-a73f-8ad6700153b4"
      },
      "outputs": [
        {
          "output_type": "stream",
          "name": "stdout",
          "text": [
            "0.9861994953378878\n",
            "{'svc__C': 10.0, 'svc__gamma': 0.01, 'svc__kernel': 'rbf'}\n"
          ]
        }
      ],
      "source": [
        "from sklearn.metrics import make_scorer\n",
        "\n",
        "scorer = make_scorer(f1_score, pos_label=0)\n",
        "\n",
        "c_gamma_range = [0.01, 0.1, 1.0, 10.0]\n",
        "\n",
        "param_grid = [{'svc__C': c_gamma_range,\n",
        "               'svc__kernel': ['linear']},\n",
        "              {'svc__C': c_gamma_range,\n",
        "               'svc__gamma': c_gamma_range,\n",
        "               'svc__kernel': ['rbf']}]\n",
        "\n",
        "gs = GridSearchCV(estimator=pipe_svc,\n",
        "                  param_grid=param_grid,\n",
        "                  scoring=scorer,\n",
        "                  cv=10,\n",
        "                  n_jobs=-1)\n",
        "gs = gs.fit(X_train, y_train)\n",
        "print(gs.best_score_)\n",
        "print(gs.best_params_)"
      ]
    },
    {
      "cell_type": "markdown",
      "metadata": {
        "id": "9z05dC0tXeyI"
      },
      "source": [
        "<br>"
      ]
    },
    {
      "cell_type": "markdown",
      "metadata": {
        "id": "QsBmG0qbXeyI"
      },
      "source": [
        "##  ROC 곡선 그리기"
      ]
    },
    {
      "cell_type": "markdown",
      "metadata": {
        "id": "kOjU6jbqBNup"
      },
      "source": [
        "$FPR = \\dfrac{FP}{FP + TN}$"
      ]
    },
    {
      "cell_type": "code",
      "execution_count": 42,
      "metadata": {
        "colab": {
          "base_uri": "https://localhost:8080/",
          "height": 507
        },
        "execution": {
          "iopub.execute_input": "2021-10-23T05:56:16.434664Z",
          "iopub.status.busy": "2021-10-23T05:56:16.432755Z",
          "iopub.status.idle": "2021-10-23T05:56:16.645194Z",
          "shell.execute_reply": "2021-10-23T05:56:16.645663Z"
        },
        "id": "FehL-4KWXeyI",
        "outputId": "0098cdb6-4b7f-4229-8d77-e565adb6a34d"
      },
      "outputs": [
        {
          "output_type": "display_data",
          "data": {
            "text/plain": [
              "<Figure size 700x500 with 1 Axes>"
            ],
            "image/png": "[encoded data removed]"
          },
          "metadata": {}
        }
      ],
      "source": [
        "from sklearn.metrics import roc_curve, auc\n",
        "# from distutils.version import LooseVersion as Version\n",
        "from packaging.version import Version\n",
        "from scipy import __version__ as scipy_version\n",
        "\n",
        "\n",
        "if Version(scipy_version) >= Version('1.4.1'):\n",
        "    from numpy import interp\n",
        "else:\n",
        "    from scipy import interp\n",
        "\n",
        "\n",
        "pipe_lr = make_pipeline(StandardScaler(),\n",
        "                        PCA(n_components=2),\n",
        "                        LogisticRegression(penalty='l2',\n",
        "                                           random_state=1,\n",
        "                                           C=100.0))\n",
        "\n",
        "X_train2 = X_train[:, [4, 14]]\n",
        "\n",
        "\n",
        "cv = list(StratifiedKFold(n_splits=3).split(X_train, y_train))\n",
        "\n",
        "fig = plt.figure(figsize=(7, 5))\n",
        "\n",
        "mean_tpr = 0.0\n",
        "mean_fpr = np.linspace(0, 1, 100)\n",
        "\n",
        "for i, (train, test) in enumerate(cv):\n",
        "    probas = pipe_lr.fit(X_train2[train],\n",
        "                         y_train[train]).predict_proba(X_train2[test])\n",
        "\n",
        "    fpr, tpr, thresholds = roc_curve(y_train[test],\n",
        "                                     probas[:, 1],\n",
        "                                     pos_label=1)\n",
        "    mean_tpr += interp(mean_fpr, fpr, tpr)\n",
        "    mean_tpr[0] = 0.0\n",
        "    roc_auc = auc(fpr, tpr)\n",
        "    plt.plot(fpr,\n",
        "             tpr,\n",
        "             label='ROC fold %d (area = %0.2f)'\n",
        "                   % (i+1, roc_auc))\n",
        "\n",
        "plt.plot([0, 1],\n",
        "         [0, 1],\n",
        "         linestyle='--',\n",
        "         color=(0.6, 0.6, 0.6),\n",
        "         label='Random guessing')\n",
        "\n",
        "mean_tpr /= len(cv)\n",
        "mean_tpr[-1] = 1.0\n",
        "mean_auc = auc(mean_fpr, mean_tpr)\n",
        "plt.plot(mean_fpr, mean_tpr, 'k--',\n",
        "         label='Mean ROC (area = %0.2f)' % mean_auc, lw=2)\n",
        "plt.plot([0, 0, 1],\n",
        "         [0, 1, 1],\n",
        "         linestyle=':',\n",
        "         color='black',\n",
        "         label='Perfect performance')\n",
        "\n",
        "plt.xlim([-0.05, 1.05])\n",
        "plt.ylim([-0.05, 1.05])\n",
        "plt.xlabel('False positive rate')\n",
        "plt.ylabel('True positive rate')\n",
        "plt.legend(loc=\"lower right\")\n",
        "\n",
        "plt.tight_layout()\n",
        "# plt.savefig('images/06_10.png', dpi=300)\n",
        "plt.show()"
      ]
    },
    {
      "cell_type": "markdown",
      "metadata": {
        "id": "Rgqcz6hhXeyI"
      },
      "source": [
        "사이킷런 0.22 버전에서 `plot_roc_curve()` 함수와 `plot_precision_recall_curve()` 함수를 사용하면 ROC 곡선과 정밀도-재현율 곡선을 쉽게 그릴 수 있습니다."
      ]
    },
    {
      "cell_type": "code",
      "execution_count": 43,
      "metadata": {
        "colab": {
          "base_uri": "https://localhost:8080/",
          "height": 465
        },
        "execution": {
          "iopub.execute_input": "2021-10-23T05:56:16.668291Z",
          "iopub.status.busy": "2021-10-23T05:56:16.655805Z",
          "iopub.status.idle": "2021-10-23T05:56:16.848312Z",
          "shell.execute_reply": "2021-10-23T05:56:16.848787Z"
        },
        "id": "nZ1WFNoRXeyI",
        "outputId": "a1f5b71d-0a21-4303-ad12-9f7e85054399"
      },
      "outputs": [
        {
          "output_type": "display_data",
          "data": {
            "text/plain": [
              "<Figure size 700x500 with 1 Axes>"
            ],
            "image/png": "[encoded data removed]"
          },
          "metadata": {}
        }
      ],
      "source": [
        "# from sklearn.metrics import plot_roc_curve\n",
        "from sklearn.metrics import RocCurveDisplay\n",
        "\n",
        "fig, ax = plt.subplots(figsize=(7, 5))\n",
        "\n",
        "mean_tpr = 0.0\n",
        "mean_fpr = np.linspace(0, 1, 100)\n",
        "\n",
        "for i, (train, test) in enumerate(cv):\n",
        "    pipe_lr.fit(X_train2[train], y_train[train])\n",
        "#     roc_disp = plot_roc_curve(pipe_lr,\n",
        "#                               X_train2[test], y_train[test],\n",
        "#                               name=f'Fold {i}', ax=ax)\n",
        "    roc_disp = RocCurveDisplay.from_estimator(pipe_lr,\n",
        "                                              X_train2[test], y_train[test],\n",
        "                                              name=f'Fold {i}', ax=ax)\n",
        "    mean_tpr += interp(mean_fpr, roc_disp.fpr, roc_disp.tpr)\n",
        "    mean_tpr[0] = 0.0\n",
        "\n",
        "plt.plot([0, 1], [0, 1],\n",
        "         linestyle='--', color=(0.6, 0.6, 0.6),\n",
        "         label='Random guessing')\n",
        "\n",
        "mean_tpr /= len(cv)\n",
        "mean_tpr[-1] = 1.0\n",
        "mean_auc = auc(mean_fpr, mean_tpr)\n",
        "plt.plot(mean_fpr, mean_tpr, 'k--',\n",
        "         label='Mean ROC (area = %0.2f)' % mean_auc, lw=2)\n",
        "\n",
        "plt.plot([0, 0, 1], [0, 1, 1],\n",
        "         linestyle=':', color='black',\n",
        "         label='Perfect performance')\n",
        "\n",
        "plt.xlim([-0.05, 1.05])\n",
        "plt.ylim([-0.05, 1.05])\n",
        "plt.xlabel('False positive rate')\n",
        "plt.ylabel('True positive rate')\n",
        "plt.legend(loc=\"lower right\")\n",
        "# plt.savefig('images/06_plot_roc_curve.png', dpi=300)\n",
        "plt.show()"
      ]
    },
    {
      "cell_type": "code",
      "execution_count": 44,
      "metadata": {
        "colab": {
          "base_uri": "https://localhost:8080/",
          "height": 465
        },
        "execution": {
          "iopub.execute_input": "2021-10-23T05:56:16.878549Z",
          "iopub.status.busy": "2021-10-23T05:56:16.877650Z",
          "iopub.status.idle": "2021-10-23T05:56:17.046078Z",
          "shell.execute_reply": "2021-10-23T05:56:17.046531Z"
        },
        "id": "nCCmu8NoXeyI",
        "outputId": "6259e14d-e852-4822-c070-e029d9d98351"
      },
      "outputs": [
        {
          "output_type": "display_data",
          "data": {
            "text/plain": [
              "<Figure size 700x500 with 1 Axes>"
            ],
            "image/png": "[encoded data removed]"
          },
          "metadata": {}
        }
      ],
      "source": [
        "# from sklearn.metrics import plot_precision_recall_curve\n",
        "from sklearn.metrics import PrecisionRecallDisplay\n",
        "\n",
        "fig, ax = plt.subplots(figsize=(7, 5))\n",
        "\n",
        "mean_precision = 0.0\n",
        "mean_recall = np.linspace(0, 1, 100)\n",
        "\n",
        "for i, (train, test) in enumerate(cv):\n",
        "    pipe_lr.fit(X_train2[train], y_train[train])\n",
        "    pr_disp = PrecisionRecallDisplay.from_estimator(\n",
        "        pipe_lr, X_train2[test], y_train[test],\n",
        "        name=f'Fold {i}', ax=ax)\n",
        "    mean_precision += interp(mean_recall, pr_disp.recall[::-1],\n",
        "                             pr_disp.precision[::-1])\n",
        "\n",
        "plt.plot([0, 1], [1, 0],\n",
        "         linestyle='--', color=(0.6, 0.6, 0.6),\n",
        "         label='Random guessing')\n",
        "\n",
        "mean_precision /= len(cv)\n",
        "mean_auc = auc(mean_recall, mean_precision)\n",
        "plt.plot(mean_recall, mean_precision, 'k--',\n",
        "         label='Mean ROC (area = %0.2f)' % mean_auc, lw=2)\n",
        "\n",
        "plt.plot([0, 1, 1], [1, 1, 0],\n",
        "         linestyle=':', color='black',\n",
        "         label='Perfect performance')\n",
        "\n",
        "plt.xlim([-0.05, 1.05])\n",
        "plt.ylim([-0.05, 1.05])\n",
        "plt.xlabel('Recall')\n",
        "plt.ylabel('Precision')\n",
        "plt.legend(loc=\"lower left\")\n",
        "# plt.savefig('images/06_plot_precision_recall_curve.png', dpi=300)\n",
        "plt.show()"
      ]
    },
    {
      "cell_type": "markdown",
      "metadata": {
        "id": "svIhSMa9XeyI"
      },
      "source": [
        "<br>"
      ]
    },
    {
      "cell_type": "markdown",
      "metadata": {
        "id": "0LYOJgmcXeyJ"
      },
      "source": [
        "## 다중 분류의 성능 지표"
      ]
    },
    {
      "cell_type": "markdown",
      "metadata": {
        "id": "fSSamiieBNuq"
      },
      "source": [
        "$PRE_{micro} = \\dfrac{TP_1+\\cdots+TP_k}{TP_1+\\cdots+TP_k+FP_1+\\cdots+FP_k}$\n",
        "\n",
        "$PRE_{macro} = \\dfrac{PRE_1+\\cdots+PRE_k}{k}$\n",
        "\n",
        "$PRE_{weighted} = \\dfrac{PRE_1 \\times n_1+\\cdots+PRE_k \\times n_k}{n}$\n",
        "\n",
        "$PRE_{samples} = \\dfrac{PRE_1+\\cdots+PRE_n}{n}$"
      ]
    },
    {
      "cell_type": "code",
      "execution_count": 45,
      "metadata": {
        "execution": {
          "iopub.execute_input": "2021-10-23T05:56:17.052282Z",
          "iopub.status.busy": "2021-10-23T05:56:17.051096Z",
          "iopub.status.idle": "2021-10-23T05:56:17.053504Z",
          "shell.execute_reply": "2021-10-23T05:56:17.053982Z"
        },
        "id": "-SJEmIidXeyJ"
      },
      "outputs": [],
      "source": [
        "# average 기본값 'binary'\n",
        "pre_scorer = make_scorer(score_func=precision_score,\n",
        "                         pos_label=1,\n",
        "                         greater_is_better=True,\n",
        "                         average='micro')"
      ]
    },
    {
      "cell_type": "markdown",
      "metadata": {
        "id": "_NjmY4GyBNuq"
      },
      "source": [
        "<br>"
      ]
    },
    {
      "cell_type": "markdown",
      "metadata": {
        "id": "6lCmOCMYXeyJ"
      },
      "source": [
        "#  불균형한 클래스 다루기"
      ]
    },
    {
      "cell_type": "code",
      "execution_count": 46,
      "metadata": {
        "execution": {
          "iopub.execute_input": "2021-10-23T05:56:17.060524Z",
          "iopub.status.busy": "2021-10-23T05:56:17.059433Z",
          "iopub.status.idle": "2021-10-23T05:56:17.062131Z",
          "shell.execute_reply": "2021-10-23T05:56:17.062580Z"
        },
        "id": "p5fjpTa6XeyJ"
      },
      "outputs": [],
      "source": [
        "X_imb = np.vstack((X[y == 0], X[y == 1][:40]))\n",
        "y_imb = np.hstack((y[y == 0], y[y == 1][:40]))"
      ]
    },
    {
      "cell_type": "code",
      "execution_count": 47,
      "metadata": {
        "colab": {
          "base_uri": "https://localhost:8080/"
        },
        "execution": {
          "iopub.execute_input": "2021-10-23T05:56:17.069168Z",
          "iopub.status.busy": "2021-10-23T05:56:17.068231Z",
          "iopub.status.idle": "2021-10-23T05:56:17.073782Z",
          "shell.execute_reply": "2021-10-23T05:56:17.073160Z"
        },
        "id": "PhNk9XoMXeyJ",
        "outputId": "02c78d4d-a079-48ca-d6ed-eb1ddcdcd083"
      },
      "outputs": [
        {
          "output_type": "execute_result",
          "data": {
            "text/plain": [
              "89.92443324937027"
            ]
          },
          "metadata": {},
          "execution_count": 47
        }
      ],
      "source": [
        "y_pred = np.zeros(y_imb.shape[0])\n",
        "np.mean(y_pred == y_imb) * 100"
      ]
    },
    {
      "cell_type": "code",
      "execution_count": 48,
      "metadata": {
        "colab": {
          "base_uri": "https://localhost:8080/"
        },
        "execution": {
          "iopub.execute_input": "2021-10-23T05:56:17.082704Z",
          "iopub.status.busy": "2021-10-23T05:56:17.081571Z",
          "iopub.status.idle": "2021-10-23T05:56:17.085333Z",
          "shell.execute_reply": "2021-10-23T05:56:17.084601Z"
        },
        "id": "C6AAyAOvXeyJ",
        "outputId": "b7f5fdba-a83f-436c-a78f-a5f062e10645"
      },
      "outputs": [
        {
          "output_type": "stream",
          "name": "stdout",
          "text": [
            "샘플링하기 전 클래스 1의 샘플 개수: 40\n",
            "샘플링하기 후 클래스 1의 샘플 개수: 357\n"
          ]
        }
      ],
      "source": [
        "from sklearn.utils import resample\n",
        "\n",
        "print('샘플링하기 전 클래스 1의 샘플 개수:', X_imb[y_imb == 1].shape[0])\n",
        "\n",
        "X_upsampled, y_upsampled = resample(X_imb[y_imb == 1],\n",
        "                                    y_imb[y_imb == 1],\n",
        "                                    replace=True,\n",
        "                                    n_samples=X_imb[y_imb == 0].shape[0],\n",
        "                                    random_state=123)\n",
        "\n",
        "print('샘플링하기 후 클래스 1의 샘플 개수:', X_upsampled.shape[0])"
      ]
    },
    {
      "cell_type": "code",
      "execution_count": 49,
      "metadata": {
        "execution": {
          "iopub.execute_input": "2021-10-23T05:56:17.091939Z",
          "iopub.status.busy": "2021-10-23T05:56:17.090611Z",
          "iopub.status.idle": "2021-10-23T05:56:17.093174Z",
          "shell.execute_reply": "2021-10-23T05:56:17.092553Z"
        },
        "id": "ctN4217bXeyJ"
      },
      "outputs": [],
      "source": [
        "X_bal = np.vstack((X[y == 0], X_upsampled))\n",
        "y_bal = np.hstack((y[y == 0], y_upsampled))"
      ]
    },
    {
      "cell_type": "code",
      "execution_count": 50,
      "metadata": {
        "colab": {
          "base_uri": "https://localhost:8080/"
        },
        "execution": {
          "iopub.execute_input": "2021-10-23T05:56:17.099173Z",
          "iopub.status.busy": "2021-10-23T05:56:17.098320Z",
          "iopub.status.idle": "2021-10-23T05:56:17.102139Z",
          "shell.execute_reply": "2021-10-23T05:56:17.102622Z"
        },
        "id": "2A7NXfGuXeyJ",
        "outputId": "4e6e4197-a6ee-4010-f2fc-f92348eb7a63",
        "scrolled": true
      },
      "outputs": [
        {
          "output_type": "execute_result",
          "data": {
            "text/plain": [
              "50.0"
            ]
          },
          "metadata": {},
          "execution_count": 50
        }
      ],
      "source": [
        "y_pred = np.zeros(y_bal.shape[0])\n",
        "np.mean(y_pred == y_bal) * 100"
      ]
    },
    {
      "cell_type": "markdown",
      "metadata": {
        "id": "_dlfjgmBXeyK"
      },
      "source": [
        "<br>"
      ]
    }
  ],
  "metadata": {
    "anaconda-cloud": {},
    "colab": {
      "provenance": []
    },
    "kernelspec": {
      "display_name": "Python 3",
      "language": "python",
      "name": "python3"
    },
    "language_info": {
      "codemirror_mode": {
        "name": "ipython",
        "version": 3
      },
      "file_extension": ".py",
      "mimetype": "text/x-python",
      "name": "python",
      "nbconvert_exporter": "python",
      "pygments_lexer": "ipython3",
      "version": "3.7.3"
    },
    "toc": {
      "nav_menu": {},
      "number_sections": true,
      "sideBar": true,
      "skip_h1_title": false,
      "title_cell": "Table of Contents",
      "title_sidebar": "Contents",
      "toc_cell": false,
      "toc_position": {},
      "toc_section_display": true,
      "toc_window_display": false
    }
  },
  "nbformat": 4,
  "nbformat_minor": 0
}